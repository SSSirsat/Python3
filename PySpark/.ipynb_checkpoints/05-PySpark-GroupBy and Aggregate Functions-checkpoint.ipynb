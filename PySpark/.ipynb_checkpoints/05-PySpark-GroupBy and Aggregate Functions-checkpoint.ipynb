{
 "cells": [
  {
   "cell_type": "markdown",
   "id": "a048a45b",
   "metadata": {},
   "source": [
    "# PySpark GroupBy and Aggregate Functions"
   ]
  },
  {
   "cell_type": "code",
   "execution_count": 1,
   "id": "13260bf3",
   "metadata": {},
   "outputs": [],
   "source": [
    "from pyspark.sql import SparkSession\n",
    "spark = SparkSession.builder.appName('Testapp').getOrCreate()"
   ]
  },
  {
   "cell_type": "code",
   "execution_count": 2,
   "id": "773ce281",
   "metadata": {},
   "outputs": [
    {
     "data": {
      "text/html": [
       "\n",
       "            <div>\n",
       "                <p><b>SparkSession - in-memory</b></p>\n",
       "                \n",
       "        <div>\n",
       "            <p><b>SparkContext</b></p>\n",
       "\n",
       "            <p><a href=\"http://LAPTOP-DC9FKHSL:4044\">Spark UI</a></p>\n",
       "\n",
       "            <dl>\n",
       "              <dt>Version</dt>\n",
       "                <dd><code>v3.2.1</code></dd>\n",
       "              <dt>Master</dt>\n",
       "                <dd><code>local[*]</code></dd>\n",
       "              <dt>AppName</dt>\n",
       "                <dd><code>Testapp</code></dd>\n",
       "            </dl>\n",
       "        </div>\n",
       "        \n",
       "            </div>\n",
       "        "
      ],
      "text/plain": [
       "<pyspark.sql.session.SparkSession at 0x23538fecbb0>"
      ]
     },
     "execution_count": 2,
     "metadata": {},
     "output_type": "execute_result"
    }
   ],
   "source": [
    "spark"
   ]
  },
  {
   "cell_type": "code",
   "execution_count": 3,
   "id": "21acc3f4",
   "metadata": {},
   "outputs": [],
   "source": [
    "df = spark.read.csv('test5.csv', header=True, inferSchema=True)"
   ]
  },
  {
   "cell_type": "code",
   "execution_count": 4,
   "id": "d0b77711",
   "metadata": {},
   "outputs": [
    {
     "name": "stdout",
     "output_type": "stream",
     "text": [
      "+---------+--------------------+------+\n",
      "|     Name|         Departments|Salary|\n",
      "+---------+--------------------+------+\n",
      "|  Shubham|       Data ascience| 30000|\n",
      "|   Manish|              Pharma| 15000|\n",
      "|    Seeta|           HouseWife|  1000|\n",
      "|Suryakant|   Police Department| 70000|\n",
      "|Chaitanya|                  CS|  1000|\n",
      "|    Nisha|            Students|     0|\n",
      "|Ravindra |        Not Employed|  5000|\n",
      "|   Sujata|          Beautician| 15000|\n",
      "|  Lahuram|Ex-Army officer a...| 25000|\n",
      "|  Saurabh|                Army|  3000|\n",
      "|  Shubham|       Data ascience|  6000|\n",
      "|  Saurabh|                Army|  5000|\n",
      "|    Nisha|            Students| 50000|\n",
      "|  Shubham|       Data ascience| 15000|\n",
      "|    Seeta|           HouseWife|500000|\n",
      "|Suryakant|   Police Department|300000|\n",
      "|   Manish|              Pharma| 50000|\n",
      "+---------+--------------------+------+\n",
      "\n"
     ]
    }
   ],
   "source": [
    "df.show()"
   ]
  },
  {
   "cell_type": "code",
   "execution_count": 5,
   "id": "02ea49dc",
   "metadata": {},
   "outputs": [
    {
     "name": "stdout",
     "output_type": "stream",
     "text": [
      "root\n",
      " |-- Name: string (nullable = true)\n",
      " |-- Departments: string (nullable = true)\n",
      " |-- Salary: integer (nullable = true)\n",
      "\n"
     ]
    }
   ],
   "source": [
    "df.printSchema()"
   ]
  },
  {
   "cell_type": "code",
   "execution_count": 6,
   "id": "f47b91b8",
   "metadata": {},
   "outputs": [
    {
     "name": "stdout",
     "output_type": "stream",
     "text": [
      "+---------+-----------+\n",
      "|     Name|sum(Salary)|\n",
      "+---------+-----------+\n",
      "|   Manish|      65000|\n",
      "|  Saurabh|       8000|\n",
      "|Chaitanya|       1000|\n",
      "|    Nisha|      50000|\n",
      "|   Sujata|      15000|\n",
      "|Ravindra |       5000|\n",
      "|  Lahuram|      25000|\n",
      "|Suryakant|     370000|\n",
      "|    Seeta|     501000|\n",
      "|  Shubham|      51000|\n",
      "+---------+-----------+\n",
      "\n"
     ]
    }
   ],
   "source": [
    "## GroupBy operations\n",
    "\n",
    "# grouped to fing maximum salary\n",
    "df.groupBy('Name').sum().show()"
   ]
  },
  {
   "cell_type": "code",
   "execution_count": 7,
   "id": "3c61c983",
   "metadata": {},
   "outputs": [
    {
     "name": "stdout",
     "output_type": "stream",
     "text": [
      "+--------------------+-----------+\n",
      "|         Departments|sum(Salary)|\n",
      "+--------------------+-----------+\n",
      "|Ex-Army officer a...|      25000|\n",
      "|              Pharma|      65000|\n",
      "|            Students|      50000|\n",
      "|        Not Employed|       5000|\n",
      "|          Beautician|      15000|\n",
      "|   Police Department|     370000|\n",
      "|                Army|       8000|\n",
      "|       Data ascience|      51000|\n",
      "|                  CS|       1000|\n",
      "|           HouseWife|     501000|\n",
      "+--------------------+-----------+\n",
      "\n"
     ]
    }
   ],
   "source": [
    "# grouped by departments which gives maximum salary\n",
    "df.groupBy('Departments').sum().show()"
   ]
  },
  {
   "cell_type": "code",
   "execution_count": 8,
   "id": "97734d73",
   "metadata": {},
   "outputs": [
    {
     "name": "stdout",
     "output_type": "stream",
     "text": [
      "+--------------------+-----------+\n",
      "|         Departments|avg(Salary)|\n",
      "+--------------------+-----------+\n",
      "|Ex-Army officer a...|    25000.0|\n",
      "|              Pharma|    32500.0|\n",
      "|            Students|    25000.0|\n",
      "|        Not Employed|     5000.0|\n",
      "|          Beautician|    15000.0|\n",
      "|   Police Department|   185000.0|\n",
      "|                Army|     4000.0|\n",
      "|       Data ascience|    17000.0|\n",
      "|                  CS|     1000.0|\n",
      "|           HouseWife|   250500.0|\n",
      "+--------------------+-----------+\n",
      "\n"
     ]
    }
   ],
   "source": [
    "df.groupBy('Departments').mean().show()"
   ]
  },
  {
   "cell_type": "code",
   "execution_count": 9,
   "id": "084fcca2",
   "metadata": {},
   "outputs": [
    {
     "name": "stdout",
     "output_type": "stream",
     "text": [
      "+--------------------+-----+\n",
      "|         Departments|count|\n",
      "+--------------------+-----+\n",
      "|Ex-Army officer a...|    1|\n",
      "|              Pharma|    2|\n",
      "|            Students|    2|\n",
      "|        Not Employed|    1|\n",
      "|          Beautician|    1|\n",
      "|   Police Department|    2|\n",
      "|                Army|    2|\n",
      "|       Data ascience|    3|\n",
      "|                  CS|    1|\n",
      "|           HouseWife|    2|\n",
      "+--------------------+-----+\n",
      "\n"
     ]
    }
   ],
   "source": [
    "df.groupBy('Departments').count().show()"
   ]
  },
  {
   "cell_type": "code",
   "execution_count": 10,
   "id": "0157a8ea",
   "metadata": {},
   "outputs": [
    {
     "name": "stdout",
     "output_type": "stream",
     "text": [
      "+-----------+\n",
      "|sum(Salary)|\n",
      "+-----------+\n",
      "|    1091000|\n",
      "+-----------+\n",
      "\n"
     ]
    }
   ],
   "source": [
    "df.agg({\"Salary\": 'sum'}).show()"
   ]
  },
  {
   "cell_type": "code",
   "execution_count": 11,
   "id": "5144d8b0",
   "metadata": {},
   "outputs": [
    {
     "name": "stdout",
     "output_type": "stream",
     "text": [
      "+---------+-----------+\n",
      "|     Name|avg(Salary)|\n",
      "+---------+-----------+\n",
      "|   Manish|    32500.0|\n",
      "|  Saurabh|     4000.0|\n",
      "|Chaitanya|     1000.0|\n",
      "|    Nisha|    25000.0|\n",
      "|   Sujata|    15000.0|\n",
      "|Ravindra |     5000.0|\n",
      "|  Lahuram|    25000.0|\n",
      "|Suryakant|   185000.0|\n",
      "|    Seeta|   250500.0|\n",
      "|  Shubham|    17000.0|\n",
      "+---------+-----------+\n",
      "\n"
     ]
    }
   ],
   "source": [
    "df.groupBy('Name').avg().show()"
   ]
  },
  {
   "cell_type": "code",
   "execution_count": null,
   "id": "4eafcaa3",
   "metadata": {},
   "outputs": [],
   "source": []
  }
 ],
 "metadata": {
  "kernelspec": {
   "display_name": "pyspark",
   "language": "python",
   "name": "pyspark"
  },
  "language_info": {
   "codemirror_mode": {
    "name": "ipython",
    "version": 3
   },
   "file_extension": ".py",
   "mimetype": "text/x-python",
   "name": "python",
   "nbconvert_exporter": "python",
   "pygments_lexer": "ipython3",
   "version": "3.9.10"
  }
 },
 "nbformat": 4,
 "nbformat_minor": 5
}
