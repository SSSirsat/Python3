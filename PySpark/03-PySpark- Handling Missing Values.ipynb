{
 "cells": [
  {
   "cell_type": "markdown",
   "id": "718099a3",
   "metadata": {},
   "source": [
    "# PySpark Handling Missing Values\n",
    "\n",
    "- Dropping Columns\n",
    "- Dropping Rows\n",
    "- Variable Parameter in Dropping functionalities\n",
    "- handling Missing values by Mean"
   ]
  },
  {
   "cell_type": "code",
   "execution_count": 1,
   "id": "0facd364",
   "metadata": {},
   "outputs": [],
   "source": [
    "from pyspark.sql import SparkSession\n",
    "spark = SparkSession.builder.appName('Practical').getOrCreate()"
   ]
  },
  {
   "cell_type": "code",
   "execution_count": 2,
   "id": "d6e4e22f",
   "metadata": {},
   "outputs": [],
   "source": [
    "df_pyspark = spark.read.csv('test3.csv', header=True, inferSchema=True)"
   ]
  },
  {
   "cell_type": "code",
   "execution_count": 3,
   "id": "c595e58a",
   "metadata": {},
   "outputs": [
    {
     "name": "stdout",
     "output_type": "stream",
     "text": [
      "+---------+----+----------+------+\n",
      "|     Name| Age|Experience|Salary|\n",
      "+---------+----+----------+------+\n",
      "|  Shubham|  27|         5| 50000|\n",
      "|   Manish|  25|         1| 25000|\n",
      "|Suryakant|  58|        34| 45000|\n",
      "|  Saurabh|  18|         0| 15000|\n",
      "|    Seeta|  45|        25| 15000|\n",
      "|   Shweta|  45|        15| 85000|\n",
      "|     null|null|      null| 40000|\n",
      "|     null|  36|        10| 38000|\n",
      "|     null|  34|      null|  null|\n",
      "+---------+----+----------+------+\n",
      "\n"
     ]
    }
   ],
   "source": [
    "df_pyspark.show()"
   ]
  },
  {
   "cell_type": "code",
   "execution_count": 4,
   "id": "b2e8c43f",
   "metadata": {},
   "outputs": [
    {
     "name": "stdout",
     "output_type": "stream",
     "text": [
      "+----+----------+------+\n",
      "| Age|Experience|Salary|\n",
      "+----+----------+------+\n",
      "|  27|         5| 50000|\n",
      "|  25|         1| 25000|\n",
      "|  58|        34| 45000|\n",
      "|  18|         0| 15000|\n",
      "|  45|        25| 15000|\n",
      "|  45|        15| 85000|\n",
      "|null|      null| 40000|\n",
      "|  36|        10| 38000|\n",
      "|  34|      null|  null|\n",
      "+----+----------+------+\n",
      "\n"
     ]
    }
   ],
   "source": [
    "# Drop column\n",
    "df_pyspark.drop('Name').show()"
   ]
  },
  {
   "cell_type": "code",
   "execution_count": 5,
   "id": "59a67ae8",
   "metadata": {},
   "outputs": [
    {
     "name": "stdout",
     "output_type": "stream",
     "text": [
      "+---------+----+----------+------+\n",
      "|     Name| Age|Experience|Salary|\n",
      "+---------+----+----------+------+\n",
      "|  Shubham|  27|         5| 50000|\n",
      "|   Manish|  25|         1| 25000|\n",
      "|Suryakant|  58|        34| 45000|\n",
      "|  Saurabh|  18|         0| 15000|\n",
      "|    Seeta|  45|        25| 15000|\n",
      "|   Shweta|  45|        15| 85000|\n",
      "|     null|null|      null| 40000|\n",
      "|     null|  36|        10| 38000|\n",
      "|     null|  34|      null|  null|\n",
      "+---------+----+----------+------+\n",
      "\n"
     ]
    }
   ],
   "source": [
    "df_pyspark.show()"
   ]
  },
  {
   "cell_type": "code",
   "execution_count": 6,
   "id": "aab01605",
   "metadata": {},
   "outputs": [
    {
     "name": "stdout",
     "output_type": "stream",
     "text": [
      "+---------+---+----------+------+\n",
      "|     Name|Age|Experience|Salary|\n",
      "+---------+---+----------+------+\n",
      "|  Shubham| 27|         5| 50000|\n",
      "|   Manish| 25|         1| 25000|\n",
      "|Suryakant| 58|        34| 45000|\n",
      "|  Saurabh| 18|         0| 15000|\n",
      "|    Seeta| 45|        25| 15000|\n",
      "|   Shweta| 45|        15| 85000|\n",
      "+---------+---+----------+------+\n",
      "\n"
     ]
    }
   ],
   "source": [
    "df_pyspark.na.drop().show()"
   ]
  },
  {
   "cell_type": "code",
   "execution_count": 7,
   "id": "606bfb6c",
   "metadata": {},
   "outputs": [
    {
     "name": "stdout",
     "output_type": "stream",
     "text": [
      "+---------+---+----------+------+\n",
      "|     Name|Age|Experience|Salary|\n",
      "+---------+---+----------+------+\n",
      "|  Shubham| 27|         5| 50000|\n",
      "|   Manish| 25|         1| 25000|\n",
      "|Suryakant| 58|        34| 45000|\n",
      "|  Saurabh| 18|         0| 15000|\n",
      "|    Seeta| 45|        25| 15000|\n",
      "|   Shweta| 45|        15| 85000|\n",
      "+---------+---+----------+------+\n",
      "\n"
     ]
    }
   ],
   "source": [
    "# any == how\n",
    "df_pyspark.na.drop(how='any').show()"
   ]
  },
  {
   "cell_type": "code",
   "execution_count": 16,
   "id": "a5983ec1",
   "metadata": {},
   "outputs": [
    {
     "name": "stdout",
     "output_type": "stream",
     "text": [
      "+---------+---+----------+------+\n",
      "|     Name|Age|Experience|Salary|\n",
      "+---------+---+----------+------+\n",
      "|  Shubham| 27|         5| 50000|\n",
      "|   Manish| 25|         1| 25000|\n",
      "|Suryakant| 58|        34| 45000|\n",
      "|  Saurabh| 18|         0| 15000|\n",
      "|    Seeta| 45|        25| 15000|\n",
      "|   Shweta| 45|        15| 85000|\n",
      "+---------+---+----------+------+\n",
      "\n"
     ]
    }
   ],
   "source": [
    "#Threshold\n",
    "df_pyspark.na.drop(how='any',thresh=4).show()"
   ]
  },
  {
   "cell_type": "code",
   "execution_count": 18,
   "id": "10e3ac12",
   "metadata": {},
   "outputs": [
    {
     "name": "stdout",
     "output_type": "stream",
     "text": [
      "+---------+---+----------+------+\n",
      "|     Name|Age|Experience|Salary|\n",
      "+---------+---+----------+------+\n",
      "|  Shubham| 27|         5| 50000|\n",
      "|   Manish| 25|         1| 25000|\n",
      "|Suryakant| 58|        34| 45000|\n",
      "|  Saurabh| 18|         0| 15000|\n",
      "|    Seeta| 45|        25| 15000|\n",
      "|   Shweta| 45|        15| 85000|\n",
      "+---------+---+----------+------+\n",
      "\n"
     ]
    }
   ],
   "source": [
    "## Seubset\n",
    "df_pyspark.na.drop(how='any', subset=[\"Name\"]).show()"
   ]
  },
  {
   "cell_type": "code",
   "execution_count": 19,
   "id": "eff1e656",
   "metadata": {},
   "outputs": [
    {
     "name": "stdout",
     "output_type": "stream",
     "text": [
      "+--------------+----+----------+------+\n",
      "|          Name| Age|Experience|Salary|\n",
      "+--------------+----+----------+------+\n",
      "|       Shubham|  27|         5| 50000|\n",
      "|        Manish|  25|         1| 25000|\n",
      "|     Suryakant|  58|        34| 45000|\n",
      "|       Saurabh|  18|         0| 15000|\n",
      "|         Seeta|  45|        25| 15000|\n",
      "|        Shweta|  45|        15| 85000|\n",
      "|Missing values|null|      null| 40000|\n",
      "|Missing values|  36|        10| 38000|\n",
      "|Missing values|  34|      null|  null|\n",
      "+--------------+----+----------+------+\n",
      "\n"
     ]
    }
   ],
   "source": [
    "# filling na missing values\n",
    "df_pyspark.na.fill('Missing values').show()"
   ]
  },
  {
   "cell_type": "code",
   "execution_count": 20,
   "id": "a1157d81",
   "metadata": {},
   "outputs": [],
   "source": [
    "from pyspark.ml.feature import Imputer"
   ]
  },
  {
   "cell_type": "code",
   "execution_count": 21,
   "id": "e139102b",
   "metadata": {},
   "outputs": [],
   "source": [
    "imputer = Imputer(inputCols=['Age','Experience','Salary'],\n",
    "                 outputCols=[\"{}_impute\".format(c) for c in ['Age','Experience','Salary']]).setStrategy(\"mean\")"
   ]
  },
  {
   "cell_type": "code",
   "execution_count": 23,
   "id": "5e67baf3",
   "metadata": {},
   "outputs": [
    {
     "name": "stdout",
     "output_type": "stream",
     "text": [
      "+---------+----+----------+------+----------+-----------------+-------------+\n",
      "|     Name| Age|Experience|Salary|Age_impute|Experience_impute|Salary_impute|\n",
      "+---------+----+----------+------+----------+-----------------+-------------+\n",
      "|  Shubham|  27|         5| 50000|        27|                5|        50000|\n",
      "|   Manish|  25|         1| 25000|        25|                1|        25000|\n",
      "|Suryakant|  58|        34| 45000|        58|               34|        45000|\n",
      "|  Saurabh|  18|         0| 15000|        18|                0|        15000|\n",
      "|    Seeta|  45|        25| 15000|        45|               25|        15000|\n",
      "|   Shweta|  45|        15| 85000|        45|               15|        85000|\n",
      "|     null|null|      null| 40000|        36|               12|        40000|\n",
      "|     null|  36|        10| 38000|        36|               10|        38000|\n",
      "|     null|  34|      null|  null|        34|               12|        39125|\n",
      "+---------+----+----------+------+----------+-----------------+-------------+\n",
      "\n"
     ]
    }
   ],
   "source": [
    "## add columns to dataframe\n",
    "imputer.fit(df_pyspark).transform(df_pyspark).show()"
   ]
  },
  {
   "cell_type": "code",
   "execution_count": null,
   "id": "6ea39cde",
   "metadata": {},
   "outputs": [],
   "source": []
  }
 ],
 "metadata": {
  "kernelspec": {
   "display_name": "pyspark",
   "language": "python",
   "name": "pyspark"
  },
  "language_info": {
   "codemirror_mode": {
    "name": "ipython",
    "version": 3
   },
   "file_extension": ".py",
   "mimetype": "text/x-python",
   "name": "python",
   "nbconvert_exporter": "python",
   "pygments_lexer": "ipython3",
   "version": "3.9.10"
  }
 },
 "nbformat": 4,
 "nbformat_minor": 5
}
