{
 "cells": [
  {
   "cell_type": "markdown",
   "metadata": {},
   "source": [
    "\n",
    "## LIST INTRODUCTION "
   ]
  },
  {
   "cell_type": "code",
   "execution_count": 1,
   "metadata": {
    "collapsed": true
   },
   "outputs": [],
   "source": [
    "### ----- LIST ----- ###\n",
    "#Sequence of numbers/strings/any other data type"
   ]
  },
  {
   "cell_type": "markdown",
   "metadata": {},
   "source": [
    "## Creating an empty list:"
   ]
  },
  {
   "cell_type": "markdown",
   "metadata": {},
   "source": [
    "There are two ways to create an empty list:\n"
   ]
  },
  {
   "cell_type": "raw",
   "metadata": {},
   "source": [
    "[start:stop:step]\n",
    "[n=0:n-1:1]\n",
    "[n=-1:n+1:-1]"
   ]
  },
  {
   "cell_type": "raw",
   "metadata": {},
   "source": [
    "Forward:1:stop>start\n",
    "Backward:-1:start>stop"
   ]
  },
  {
   "cell_type": "code",
   "execution_count": 3,
   "metadata": {},
   "outputs": [
    {
     "data": {
      "text/plain": [
       "[1, 11, 3, 4, 5]"
      ]
     },
     "execution_count": 3,
     "metadata": {},
     "output_type": "execute_result"
    }
   ],
   "source": [
    "a=[1,2,3,4,5]\n",
    "a[0::-1]\n",
    "a[0::-1]\n",
    "a[0::-1]\n",
    "a[0::-1]\n",
    "a[1]=11\n",
    "a"
   ]
  },
  {
   "cell_type": "code",
   "execution_count": 3,
   "metadata": {},
   "outputs": [
    {
     "data": {
      "text/plain": [
       "[5]"
      ]
     },
     "execution_count": 3,
     "metadata": {},
     "output_type": "execute_result"
    }
   ],
   "source": [
    "a[-1::1]\n",
    "a[-1::2]\n",
    "a[-1::3]\n",
    "a[-1::4]"
   ]
  },
  {
   "cell_type": "code",
   "execution_count": 4,
   "metadata": {},
   "outputs": [
    {
     "data": {
      "text/plain": [
       "range(0, 5, 2)"
      ]
     },
     "execution_count": 4,
     "metadata": {},
     "output_type": "execute_result"
    }
   ],
   "source": [
    "range(10)[slice(0, 5, 2)]"
   ]
  },
  {
   "cell_type": "code",
   "execution_count": 5,
   "metadata": {},
   "outputs": [
    {
     "name": "stdout",
     "output_type": "stream",
     "text": [
      "[]\n",
      "[]\n"
     ]
    }
   ],
   "source": [
    "#Empty List\n",
    "l1 = []\n",
    "l2 = list()\n",
    "print(l1)\n",
    "print(l2)"
   ]
  },
  {
   "cell_type": "markdown",
   "metadata": {},
   "source": [
    "## Indexing and slicing:"
   ]
  },
  {
   "cell_type": "code",
   "execution_count": 6,
   "metadata": {},
   "outputs": [
    {
     "name": "stdout",
     "output_type": "stream",
     "text": [
      "6\n",
      "[5]\n",
      "[5, 2, 6, 3, 6, 2, 3, 5]\n",
      "[1, 5, 2, 5, 2, 6, 3, 6, 2]\n"
     ]
    }
   ],
   "source": [
    "a = [1,5,2,5,2,6,3,6,2,3,5]\n",
    "#Indexing\n",
    "b = a[5]\n",
    "print(b)\n",
    "#Slicing (start,stop,step)\n",
    "c = a[3:5:2]\n",
    "d = a[3:]\n",
    "e = a[:-2]\n",
    "print(c)\n",
    "print(d)\n",
    "print(e)"
   ]
  },
  {
   "cell_type": "markdown",
   "metadata": {},
   "source": [
    "## Built-in-functions:"
   ]
  },
  {
   "cell_type": "code",
   "execution_count": 7,
   "metadata": {},
   "outputs": [
    {
     "data": {
      "text/plain": [
       "['__add__',\n",
       " '__class__',\n",
       " '__contains__',\n",
       " '__delattr__',\n",
       " '__delitem__',\n",
       " '__dir__',\n",
       " '__doc__',\n",
       " '__eq__',\n",
       " '__format__',\n",
       " '__ge__',\n",
       " '__getattribute__',\n",
       " '__getitem__',\n",
       " '__gt__',\n",
       " '__hash__',\n",
       " '__iadd__',\n",
       " '__imul__',\n",
       " '__init__',\n",
       " '__init_subclass__',\n",
       " '__iter__',\n",
       " '__le__',\n",
       " '__len__',\n",
       " '__lt__',\n",
       " '__mul__',\n",
       " '__ne__',\n",
       " '__new__',\n",
       " '__reduce__',\n",
       " '__reduce_ex__',\n",
       " '__repr__',\n",
       " '__reversed__',\n",
       " '__rmul__',\n",
       " '__setattr__',\n",
       " '__setitem__',\n",
       " '__sizeof__',\n",
       " '__str__',\n",
       " '__subclasshook__',\n",
       " 'append',\n",
       " 'clear',\n",
       " 'copy',\n",
       " 'count',\n",
       " 'extend',\n",
       " 'index',\n",
       " 'insert',\n",
       " 'pop',\n",
       " 'remove',\n",
       " 'reverse',\n",
       " 'sort']"
      ]
     },
     "execution_count": 7,
     "metadata": {},
     "output_type": "execute_result"
    }
   ],
   "source": [
    "#dir()\n",
    "a = [1,2,3]\n",
    "dir(a)"
   ]
  },
  {
   "cell_type": "code",
   "execution_count": 8,
   "metadata": {},
   "outputs": [
    {
     "name": "stdout",
     "output_type": "stream",
     "text": [
      "[1, 2, 3, 4]\n"
     ]
    }
   ],
   "source": [
    "#1. append()\n",
    "a = [1,2,3]\n",
    "a.append(4)\n",
    "print(a)"
   ]
  },
  {
   "cell_type": "code",
   "execution_count": 9,
   "metadata": {},
   "outputs": [
    {
     "name": "stdout",
     "output_type": "stream",
     "text": [
      "[2, 10, 3, 1, 1, 1]\n"
     ]
    }
   ],
   "source": [
    "#2. insert(),remove()\n",
    "a = [1,2,3,1,1,1]\n",
    "a.insert(2,10)\n",
    "a.remove(1)\n",
    "print(a)"
   ]
  },
  {
   "cell_type": "code",
   "execution_count": 10,
   "metadata": {},
   "outputs": [
    {
     "name": "stdout",
     "output_type": "stream",
     "text": [
      "[2, 3, 5, 6, 7, 7, 9, 11, 31, 45] [45, 31, 11, 9, 7, 7, 6, 5, 3, 2]\n"
     ]
    }
   ],
   "source": [
    "#3. sort() [ Both A.O and D.O ] & copy() function\n",
    "a = [6,7,2,5,3,9,7,11,45,31]\n",
    "a.sort()\n",
    "b = a.copy()\n",
    "b.sort(reverse = True)\n",
    "print(a,b)"
   ]
  },
  {
   "cell_type": "code",
   "execution_count": 11,
   "metadata": {},
   "outputs": [
    {
     "name": "stdout",
     "output_type": "stream",
     "text": [
      "[1, 2, 3, 4, 5]\n",
      "[]\n"
     ]
    }
   ],
   "source": [
    "#4. clear()\n",
    "a = [1,2,3,4,5]\n",
    "b = a.copy()\n",
    "print(b)\n",
    "b.clear()\n",
    "print(b)"
   ]
  },
  {
   "cell_type": "code",
   "execution_count": 12,
   "metadata": {},
   "outputs": [
    {
     "data": {
      "text/plain": [
       "3"
      ]
     },
     "execution_count": 12,
     "metadata": {},
     "output_type": "execute_result"
    }
   ],
   "source": [
    "#5. count()\n",
    "a = [1,2,2,3,3,3,4,4,4,4]\n",
    "a.count(3)"
   ]
  },
  {
   "cell_type": "code",
   "execution_count": 13,
   "metadata": {},
   "outputs": [
    {
     "data": {
      "text/plain": [
       "5"
      ]
     },
     "execution_count": 13,
     "metadata": {},
     "output_type": "execute_result"
    }
   ],
   "source": [
    "#6. index()\n",
    "a = [4,2,5,2,1,3,6,8,3,3,3,2]\n",
    "a.index(3)"
   ]
  },
  {
   "cell_type": "code",
   "execution_count": 14,
   "metadata": {},
   "outputs": [
    {
     "name": "stdout",
     "output_type": "stream",
     "text": [
      "10 \n",
      " [1, 2, 3, 4, 5, 6, 7, 8, 9]\n",
      "[1, 2, 3, 4, 5, 6, 8, 9]\n"
     ]
    }
   ],
   "source": [
    "#7. pop()\n",
    "a = [1,2,3,4,5,6,7,8,9,10]\n",
    "c = a.pop()\n",
    "b = a.copy()\n",
    "print(c,'\\n',b)\n",
    "b.pop(6)\n",
    "print(b)"
   ]
  },
  {
   "cell_type": "code",
   "execution_count": 15,
   "metadata": {},
   "outputs": [
    {
     "name": "stdout",
     "output_type": "stream",
     "text": [
      "[5, 3, 1, 6, 3, 2, 5, 32, 1]\n",
      "[1, 32, 5, 2, 3, 6, 1, 3, 5]\n"
     ]
    }
   ],
   "source": [
    "#8. reverse()\n",
    "a = [5,3,1,6,3,2,5,32,1]\n",
    "print(a)\n",
    "b = a.copy()\n",
    "b.reverse()\n",
    "print(b)"
   ]
  },
  {
   "cell_type": "code",
   "execution_count": 16,
   "metadata": {},
   "outputs": [
    {
     "name": "stdout",
     "output_type": "stream",
     "text": [
      "[1, 2, 3, 4, 5, 6]\n",
      "[1, 2, 3, 4, 5, 6, 7, 8, 9]\n"
     ]
    }
   ],
   "source": [
    "#9. extend()\n",
    "a = [1,2,3]\n",
    "b = [4,5,6]\n",
    "a.extend(b)\n",
    "print(a)\n",
    "b = a.copy()\n",
    "b.extend([7,8,9])\n",
    "print(b)"
   ]
  },
  {
   "cell_type": "code",
   "execution_count": 17,
   "metadata": {},
   "outputs": [
    {
     "name": "stdout",
     "output_type": "stream",
     "text": [
      "[1, 2, 3]\n"
     ]
    }
   ],
   "source": [
    "#10. copy()\n",
    "a = [1,2,3]\n",
    "b = []\n",
    "b = a.copy()\n",
    "print(b)"
   ]
  },
  {
   "cell_type": "markdown",
   "metadata": {},
   "source": [
    "## Nested Lists (with indexing and slicing):"
   ]
  },
  {
   "cell_type": "code",
   "execution_count": 18,
   "metadata": {},
   "outputs": [
    {
     "name": "stdout",
     "output_type": "stream",
     "text": [
      "[[1, 2, 3, 4], [5, 6, 7, 8, 9, 10]]\n",
      "2\n",
      "[6, 7, 8]\n",
      "[8, 7, 6]\n",
      "-------------------------------------\n",
      "[[1, 2, 3], [4, 5, 6], [7, 8, 9]]\n",
      "8\n",
      "[1, 2]\n",
      "[2, 1]\n"
     ]
    }
   ],
   "source": [
    "#NESTED LIST\n",
    "#one can have many lists in a list, here are a few types....\n",
    "#type 1\n",
    "l1 = [1,2,3,4]\n",
    "l2 = [5,6,7,8,9,10]\n",
    "matrix1 = [l1,l2]\n",
    "print(matrix1)\n",
    "\n",
    "#indexing and slicing for type1\n",
    "\n",
    "#indexing\n",
    "print(matrix1[0][1])\n",
    "\n",
    "#slicing\n",
    "# ----- forward order -----\n",
    "print(matrix1[1][1:-2])\n",
    "# ----- reverse order -----\n",
    "print(matrix1[1][-3:-6:-1])\n",
    "\n",
    "print('-------------------------------------')\n",
    "#type2\n",
    "l1 = [1,2,3]\n",
    "l2 = [4,5,6]\n",
    "l3 = [7,8,9]\n",
    "matrix2 = [l1,l2,l3]\n",
    "print(matrix2)\n",
    "\n",
    "#indexing and slicing for type2\n",
    "\n",
    "#indexing\n",
    "print(matrix2[2][1])\n",
    "\n",
    "#slicing\n",
    "# ----- forward order -----\n",
    "print(matrix2[0][0:2])\n",
    "# ----- reverse order -----\n",
    "print(matrix2[0][-2:-4:-1])\n"
   ]
  },
  {
   "cell_type": "markdown",
   "metadata": {},
   "source": [
    "## List comprehension:"
   ]
  },
  {
   "cell_type": "code",
   "execution_count": 19,
   "metadata": {},
   "outputs": [
    {
     "name": "stdout",
     "output_type": "stream",
     "text": [
      "[1, 4, 9]\n"
     ]
    }
   ],
   "source": [
    "#LIST COMPREHENSION\n",
    "#Sytanx: [expression for item in list if condition]\n",
    "\n",
    "l1 = [1,2,3]\n",
    "print([t**2 for t in l1])\n",
    "#type(t)   #this variable t is created in run time, once the list is done, t is destroyed"
   ]
  },
  {
   "cell_type": "code",
   "execution_count": 20,
   "metadata": {},
   "outputs": [
    {
     "name": "stdout",
     "output_type": "stream",
     "text": [
      "[[1, 2, 3], [2, 3, 4], [4, 5, 6]]\n",
      "[1, 2, 4]\n",
      "[2, 4, 8]\n"
     ]
    }
   ],
   "source": [
    "l1 = [1,2,3]\n",
    "l2 = [2,3,4]\n",
    "l3 = [4,5,6]\n",
    "matrix = [l1,l2,l3]\n",
    "print(matrix)\n",
    "\n",
    "\n",
    "first_col = [row[0] for row in matrix]\n",
    "print(first_col)\n",
    "\n",
    "\n",
    "first_col_op = [row[0]*2 for row in matrix]\n",
    "print(first_col_op)"
   ]
  }
 ],
 "metadata": {
  "celltoolbar": "Raw Cell Format",
  "kernelspec": {
   "display_name": "Python 3",
   "language": "python",
   "name": "python3"
  },
  "language_info": {
   "codemirror_mode": {
    "name": "ipython",
    "version": 3
   },
   "file_extension": ".py",
   "mimetype": "text/x-python",
   "name": "python",
   "nbconvert_exporter": "python",
   "pygments_lexer": "ipython3",
   "version": "3.8.8"
  }
 },
 "nbformat": 4,
 "nbformat_minor": 2
}
