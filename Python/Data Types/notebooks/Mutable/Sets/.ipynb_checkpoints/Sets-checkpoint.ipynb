{
 "cells": [
  {
   "cell_type": "markdown",
   "metadata": {},
   "source": [
    "# Sets - Mutable Data Types"
   ]
  },
  {
   "cell_type": "markdown",
   "metadata": {},
   "source": [
    "A set is an unordered collection of items. Every element is unique. A set is created by placing all the items (elements) inside curly braces{},seperated by commas"
   ]
  },
  {
   "cell_type": "code",
   "execution_count": 1,
   "metadata": {},
   "outputs": [],
   "source": [
    "# Every element has to be unique\n",
    "a={1,2,3,4}"
   ]
  },
  {
   "cell_type": "code",
   "execution_count": 4,
   "metadata": {},
   "outputs": [],
   "source": [
    "# can create a set by calling an in built-function 'set'\n",
    "a=set()"
   ]
  },
  {
   "cell_type": "code",
   "execution_count": 5,
   "metadata": {},
   "outputs": [
    {
     "data": {
      "text/plain": [
       "set"
      ]
     },
     "execution_count": 5,
     "metadata": {},
     "output_type": "execute_result"
    }
   ],
   "source": [
    "type(a)"
   ]
  },
  {
   "cell_type": "markdown",
   "metadata": {},
   "source": [
    "# SET Introduction"
   ]
  },
  {
   "cell_type": "markdown",
   "metadata": {},
   "source": [
    "## Creating an empty set:"
   ]
  },
  {
   "cell_type": "code",
   "execution_count": 94,
   "metadata": {},
   "outputs": [
    {
     "name": "stdout",
     "output_type": "stream",
     "text": [
      "set()\n"
     ]
    }
   ],
   "source": [
    "#Creating empty sets\n",
    "#only 1 way \n",
    "x = set()\n",
    "print(x)   #empty set"
   ]
  },
  {
   "cell_type": "markdown",
   "metadata": {},
   "source": [
    "## Difference between a set and a list:"
   ]
  },
  {
   "cell_type": "code",
   "execution_count": 95,
   "metadata": {},
   "outputs": [
    {
     "name": "stdout",
     "output_type": "stream",
     "text": [
      "[1, 2, 2, 3, 3, 3, 4, 4, 4, 4]\n",
      "{1, 2, 3, 4}\n"
     ]
    }
   ],
   "source": [
    "#removes duplicates, this is the difference between list and a set\n",
    "l = [1,2,2,3,3,3,4,4,4,4]\n",
    "print(l)\n",
    "s = set(l)\n",
    "print(s)\n"
   ]
  },
  {
   "cell_type": "markdown",
   "metadata": {},
   "source": [
    "## Indexing and slicing:"
   ]
  },
  {
   "cell_type": "code",
   "execution_count": 96,
   "metadata": {},
   "outputs": [
    {
     "name": "stdout",
     "output_type": "stream",
     "text": [
      "9\n"
     ]
    }
   ],
   "source": [
    "s = {1,2,3,4,5,6,7,8,9}\n",
    "print(len(s))\n",
    "\n",
    "#indexing:\n",
    "#print(s[4])\n",
    "\n",
    "#slicing:\n",
    "#print(s[2::-1])\n",
    "#print(s[2:9:2])"
   ]
  },
  {
   "cell_type": "markdown",
   "metadata": {},
   "source": [
    "## Built-in-functions:"
   ]
  },
  {
   "cell_type": "code",
   "execution_count": 97,
   "metadata": {},
   "outputs": [
    {
     "data": {
      "text/plain": [
       "['__and__',\n",
       " '__class__',\n",
       " '__contains__',\n",
       " '__delattr__',\n",
       " '__dir__',\n",
       " '__doc__',\n",
       " '__eq__',\n",
       " '__format__',\n",
       " '__ge__',\n",
       " '__getattribute__',\n",
       " '__gt__',\n",
       " '__hash__',\n",
       " '__iand__',\n",
       " '__init__',\n",
       " '__init_subclass__',\n",
       " '__ior__',\n",
       " '__isub__',\n",
       " '__iter__',\n",
       " '__ixor__',\n",
       " '__le__',\n",
       " '__len__',\n",
       " '__lt__',\n",
       " '__ne__',\n",
       " '__new__',\n",
       " '__or__',\n",
       " '__rand__',\n",
       " '__reduce__',\n",
       " '__reduce_ex__',\n",
       " '__repr__',\n",
       " '__ror__',\n",
       " '__rsub__',\n",
       " '__rxor__',\n",
       " '__setattr__',\n",
       " '__sizeof__',\n",
       " '__str__',\n",
       " '__sub__',\n",
       " '__subclasshook__',\n",
       " '__xor__',\n",
       " 'add',\n",
       " 'clear',\n",
       " 'copy',\n",
       " 'difference',\n",
       " 'difference_update',\n",
       " 'discard',\n",
       " 'intersection',\n",
       " 'intersection_update',\n",
       " 'isdisjoint',\n",
       " 'issubset',\n",
       " 'issuperset',\n",
       " 'pop',\n",
       " 'remove',\n",
       " 'symmetric_difference',\n",
       " 'symmetric_difference_update',\n",
       " 'union',\n",
       " 'update']"
      ]
     },
     "execution_count": 97,
     "metadata": {},
     "output_type": "execute_result"
    }
   ],
   "source": [
    "#built-in-functions\n",
    "s = {1,2,3,4}\n",
    "dir(s)\n"
   ]
  },
  {
   "cell_type": "code",
   "execution_count": 98,
   "metadata": {},
   "outputs": [
    {
     "name": "stdout",
     "output_type": "stream",
     "text": [
      "{1, 2, 3, 4, 5}\n"
     ]
    }
   ],
   "source": [
    "#1. add()\n",
    "''' Add an element to a set.\n",
    "\n",
    "This has no effect if the element is already present. '''\n",
    "\n",
    "\n",
    "s.add(1)\n",
    "s.add(5)\n",
    "print(s)"
   ]
  },
  {
   "cell_type": "code",
   "execution_count": 99,
   "metadata": {},
   "outputs": [
    {
     "name": "stdout",
     "output_type": "stream",
     "text": [
      "set()\n"
     ]
    }
   ],
   "source": [
    "#2. clear()\n",
    "''' Remove all elements from this set. '''\n",
    "s.clear()\n",
    "print(s)"
   ]
  },
  {
   "cell_type": "code",
   "execution_count": 100,
   "metadata": {},
   "outputs": [
    {
     "name": "stdout",
     "output_type": "stream",
     "text": [
      "{1, 2, 3}\n",
      "{1, 2, 3}\n"
     ]
    }
   ],
   "source": [
    "#3. copy()\n",
    "''' Return a shallow copy of a set.  '''\n",
    "s = {1,2,3}\n",
    "print(s)\n",
    "s1 = s.copy()\n",
    "print(s1)"
   ]
  },
  {
   "cell_type": "code",
   "execution_count": 101,
   "metadata": {},
   "outputs": [
    {
     "name": "stdout",
     "output_type": "stream",
     "text": [
      "s1 is:  {1, 2, 3, 4}\n",
      "s2 is:  {2, 3, 4}\n",
      "s3 is:  {1}\n",
      "----------\n",
      "s1 is:  {1, 2, 3, 4}\n",
      "s2 is:  {2, 3, 4}\n",
      "s3 is:  set()\n",
      "----------\n",
      "s1 is:  {1, 2, 3, 4}\n",
      "s2 is:  {3, 5, 6, 7}\n",
      "s3 is:  {1, 2, 4}\n",
      "----------\n",
      "s1 is:  {1, 2, 3, 4}\n",
      "s2 is:  {3, 5, 6, 7}\n",
      "s3 is:  {5, 6, 7}\n"
     ]
    }
   ],
   "source": [
    "#4. difference()\n",
    "''' Return the difference of two or more sets as a new set.\n",
    "\n",
    "(i.e. all elements that are in this set but not the others.) '''\n",
    "\n",
    "\n",
    "##type1\n",
    "s1 = {1,2,3,4}\n",
    "s2 = {2,3,4}\n",
    "s3 = s1.difference(s2)\n",
    "print(\"s1 is: \",s1)\n",
    "print(\"s2 is: \",s2)\n",
    "print(\"s3 is: \",s3)\n",
    "print(\"----------\")\n",
    "\n",
    "##type2\n",
    "s1 = {1,2,3,4}\n",
    "s2 = {2,3,4}\n",
    "s3 = s2.difference(s1)\n",
    "print(\"s1 is: \",s1)\n",
    "print(\"s2 is: \",s2)\n",
    "print(\"s3 is: \",s3)\n",
    "\n",
    "print(\"----------\")\n",
    "##type3\n",
    "s1 = {1,2,3,4}\n",
    "s2 = {3,5,6,7}\n",
    "s3 = s1.difference(s2)\n",
    "print(\"s1 is: \",s1)\n",
    "print(\"s2 is: \",s2)\n",
    "print(\"s3 is: \",s3)\n",
    "print(\"----------\")\n",
    "\n",
    "##type4\n",
    "s1 = {1,2,3,4}\n",
    "s2 = {3,5,6,7}\n",
    "s3 = s2.difference(s1)\n",
    "print(\"s1 is: \",s1)\n",
    "print(\"s2 is: \",s2)\n",
    "print(\"s3 is: \",s3)"
   ]
  },
  {
   "cell_type": "code",
   "execution_count": 102,
   "metadata": {},
   "outputs": [
    {
     "name": "stdout",
     "output_type": "stream",
     "text": [
      "s1 is:  {1}\n",
      "s2 is:  {2, 3, 4}\n",
      "s3 is:  None\n",
      "s1 is:  {1, 2, 3, 4}\n",
      "s2 is:  set()\n",
      "s3 is:  None\n"
     ]
    }
   ],
   "source": [
    "#5. difference_update()\n",
    "''' Remove all elements of another set from this set  '''\n",
    "\n",
    "##type1\n",
    "s1 = {1,2,3,4}\n",
    "s2 = {2,3,4}\n",
    "s3 = s1.difference_update(s2)\n",
    "print(\"s1 is: \",s1)\n",
    "print(\"s2 is: \",s2)\n",
    "print(\"s3 is: \",s3)\n",
    "\n",
    "##type2\n",
    "s1 = {1,2,3,4}\n",
    "s2 = {2,3,4}\n",
    "s3 = s2.difference_update(s1)\n",
    "print(\"s1 is: \",s1)\n",
    "print(\"s2 is: \",s2)\n",
    "print(\"s3 is: \",s3)"
   ]
  },
  {
   "cell_type": "code",
   "execution_count": 103,
   "metadata": {},
   "outputs": [
    {
     "name": "stdout",
     "output_type": "stream",
     "text": [
      "{1, 2, 3, 4, 5}\n",
      "{1, 2, 3, 5}\n"
     ]
    }
   ],
   "source": [
    "#6. discard()\n",
    "''' Remove an element from a set if it is a member. If the element is not a member, do nothing. '''\n",
    "\n",
    "\n",
    "s = {1,2,3,4,5}\n",
    "s.discard(6)\n",
    "print(s)\n",
    "s.discard(4)\n",
    "print(s)"
   ]
  },
  {
   "cell_type": "code",
   "execution_count": 104,
   "metadata": {},
   "outputs": [
    {
     "name": "stdout",
     "output_type": "stream",
     "text": [
      "s1 is:  {1, 2, 3, 4, 5}\n",
      "s2 is:  {2, 3, 5, 6}\n",
      "s3 is:  {2, 3, 5}\n",
      "s1 is:  {1, 2, 3}\n",
      "s2 is:  {4, 5, 6, 7, 8}\n",
      "s3 is:  set()\n"
     ]
    }
   ],
   "source": [
    "#7. intersection()\n",
    "''' Return the intersection of two sets as a new set. (i.e. all elements that are in both sets.) '''\n",
    "\n",
    "\n",
    "##type1\n",
    "s1 = {1,2,3,4,5}\n",
    "s2 = {3,5,2,6,5}\n",
    "s3 = s1.intersection(s2)\n",
    "print(\"s1 is: \",s1)\n",
    "print(\"s2 is: \",s2)\n",
    "print(\"s3 is: \",s3)\n",
    "\n",
    "##type2\n",
    "s1 = {1,2,3}\n",
    "s2 = {4,5,6,7,8}\n",
    "s3 = s1.intersection(s2)\n",
    "print(\"s1 is: \",s1)\n",
    "print(\"s2 is: \",s2)\n",
    "print(\"s3 is: \",s3)"
   ]
  },
  {
   "cell_type": "code",
   "execution_count": 105,
   "metadata": {},
   "outputs": [
    {
     "name": "stdout",
     "output_type": "stream",
     "text": [
      "s1 is:  {2, 3, 5}\n",
      "s2 is:  {2, 3, 5, 6}\n",
      "s3 is:  None\n",
      "----------------\n",
      "s1 is:  {1, 2, 3, 4, 5}\n",
      "s2 is:  {2, 3, 5}\n",
      "s3 is:  None\n",
      "---------------------------------------------------\n",
      "s1 is:  set()\n",
      "s2 is:  {4, 5, 6, 7, 8}\n",
      "s3 is:  None\n",
      "----------------\n",
      "s1 is:  {1, 2, 3}\n",
      "s2 is:  set()\n",
      "s3 is:  None\n"
     ]
    }
   ],
   "source": [
    "#8. intersection_update()\n",
    "''' Update a set with the intersection of itself and another. '''\n",
    "\n",
    "\n",
    "##type1\n",
    "s1 = {1,2,3,4,5}\n",
    "s2 = {3,5,2,6,5}\n",
    "s3 = s1.intersection_update(s2)\n",
    "print(\"s1 is: \",s1)\n",
    "print(\"s2 is: \",s2)\n",
    "print(\"s3 is: \",s3)\n",
    "\n",
    "print('----------------')\n",
    "##type2\n",
    "s1 = {1,2,3,4,5}\n",
    "s2 = {3,5,2,6,5}\n",
    "s3 = s2.intersection_update(s1)\n",
    "print(\"s1 is: \",s1)\n",
    "print(\"s2 is: \",s2)\n",
    "print(\"s3 is: \",s3)\n",
    "\n",
    "print('---------------------------------------------------')\n",
    "##type3\n",
    "s1 = {1,2,3}\n",
    "s2 = {4,5,6,7,8}\n",
    "s3 = s1.intersection_update(s2)\n",
    "print(\"s1 is: \",s1)\n",
    "print(\"s2 is: \",s2)\n",
    "print(\"s3 is: \",s3)\n",
    "\n",
    "print('----------------')\n",
    "\n",
    "##type4\n",
    "s1 = {1,2,3}\n",
    "s2 = {4,5,6,7,8}\n",
    "s3 = s2.intersection_update(s1)\n",
    "print(\"s1 is: \",s1)\n",
    "print(\"s2 is: \",s2)\n",
    "print(\"s3 is: \",s3)"
   ]
  },
  {
   "cell_type": "code",
   "execution_count": 106,
   "metadata": {},
   "outputs": [
    {
     "name": "stdout",
     "output_type": "stream",
     "text": [
      "False\n",
      "True\n"
     ]
    }
   ],
   "source": [
    "#9. isdisjoint()\n",
    "''' Return True if two sets have a null intersection. '''\n",
    "\n",
    "\n",
    "s1 = {1,2,3,4,5}\n",
    "s2 = {2,5,7,4,8}\n",
    "s3 = {12,34,12,45}\n",
    "print(s1.isdisjoint(s2))    #has intersection\n",
    "print(s1.isdisjoint(s3))    #doesn't have intersection"
   ]
  },
  {
   "cell_type": "code",
   "execution_count": 107,
   "metadata": {},
   "outputs": [
    {
     "name": "stdout",
     "output_type": "stream",
     "text": [
      "True\n",
      "False\n"
     ]
    }
   ],
   "source": [
    "#10. issubset()\n",
    "''' Report whether another set contains this set.  '''\n",
    "\n",
    "s1 = {1,2,3,4,5,6,7,8,9}\n",
    "s2 = {2,5,6,4}\n",
    "s3 = {2,76,34,21,32,5,6,7,8}\n",
    "print(s2.issubset(s1))\n",
    "print(s3.issubset(s1))"
   ]
  },
  {
   "cell_type": "code",
   "execution_count": 108,
   "metadata": {},
   "outputs": [
    {
     "name": "stdout",
     "output_type": "stream",
     "text": [
      "True\n",
      "False\n"
     ]
    }
   ],
   "source": [
    "#11. issuperset()\n",
    "''' Report whether this set contains another set.  '''\n",
    "\n",
    "s1 = {1,2,3,4,5,6,7,8,9}\n",
    "s2 = {2,5,6,4}\n",
    "s3 = {2,76,34,21,32,5,6,7,8}\n",
    "print(s1.issuperset(s2))\n",
    "print(s1.issuperset(s3))"
   ]
  },
  {
   "cell_type": "code",
   "execution_count": 109,
   "metadata": {},
   "outputs": [
    {
     "name": "stdout",
     "output_type": "stream",
     "text": [
      "{2, 3, 4, 5, 6, 7, 8, 9}\n",
      "{3, 4, 5, 6, 7, 8, 9}\n",
      "1\n",
      "2\n"
     ]
    }
   ],
   "source": [
    "#12. pop()\n",
    "''' remove and return an arbitrary set element. Raises KeyError if the set is empty. Can take no arguements'''\n",
    "\n",
    "s = {1,2,3,4,5,6,7,8,9}\n",
    "x = s.pop()\n",
    "print(s)\n",
    "y = s.pop()\n",
    "print(s)\n",
    "print(x)\n",
    "print(y)\n"
   ]
  },
  {
   "cell_type": "code",
   "execution_count": 110,
   "metadata": {},
   "outputs": [
    {
     "name": "stdout",
     "output_type": "stream",
     "text": [
      "{1, 3, 4, 5, 6, 7, 8, 9}\n"
     ]
    }
   ],
   "source": [
    "#13. remove()\n",
    "''' Remove an element from a set; it must be a member. If the element is not a member, raise a KeyError. '''\n",
    "\n",
    "s = {1,2,3,4,5,6,7,8,9}\n",
    "s.remove(2)\n",
    "print(s)"
   ]
  },
  {
   "cell_type": "code",
   "execution_count": 111,
   "metadata": {},
   "outputs": [
    {
     "name": "stdout",
     "output_type": "stream",
     "text": [
      "s1 is:  {1, 2, 3, 4, 5}\n",
      "s2 is:  {2, 3, 5, 6}\n",
      "s3 is:  {1, 4, 6}\n",
      "----------------\n",
      "s1 is:  {1, 2, 3, 4, 5}\n",
      "s2 is:  {2, 3, 5, 6}\n",
      "s3 is:  {1, 4, 6}\n",
      "---------------------------------------------------\n",
      "s1 is:  {1, 2, 3}\n",
      "s2 is:  {4, 5, 6, 7, 8}\n",
      "s3 is:  {1, 2, 3, 4, 5, 6, 7, 8}\n",
      "----------------\n",
      "s1 is:  {1, 2, 3}\n",
      "s2 is:  {4, 5, 6, 7, 8}\n",
      "s3 is:  {1, 2, 3, 4, 5, 6, 7, 8}\n"
     ]
    }
   ],
   "source": [
    "#14. symmetric_difference()\n",
    "''' Return the symmetric difference of two sets as a new set. (i.e. all elements that are in exactly one of the sets.) '''\n",
    "\n",
    "##type1\n",
    "s1 = {1,2,3,4,5}\n",
    "s2 = {3,5,2,6,5}\n",
    "s3 = s1.symmetric_difference(s2)\n",
    "print(\"s1 is: \",s1)\n",
    "print(\"s2 is: \",s2)\n",
    "print(\"s3 is: \",s3)\n",
    "\n",
    "print('----------------')\n",
    "##type2\n",
    "s1 = {1,2,3,4,5}\n",
    "s2 = {3,5,2,6,5}\n",
    "s3 = s2.symmetric_difference(s1)\n",
    "print(\"s1 is: \",s1)\n",
    "print(\"s2 is: \",s2)\n",
    "print(\"s3 is: \",s3)\n",
    "\n",
    "print('---------------------------------------------------')\n",
    "##type3\n",
    "s1 = {1,2,3}\n",
    "s2 = {4,5,6,7,8}\n",
    "s3 = s1.symmetric_difference(s2)\n",
    "print(\"s1 is: \",s1)\n",
    "print(\"s2 is: \",s2)\n",
    "print(\"s3 is: \",s3)\n",
    "\n",
    "print('----------------')\n",
    "\n",
    "##type4\n",
    "s1 = {1,2,3}\n",
    "s2 = {4,5,6,7,8}\n",
    "s3 = s2.symmetric_difference(s1)\n",
    "print(\"s1 is: \",s1)\n",
    "print(\"s2 is: \",s2)\n",
    "print(\"s3 is: \",s3)"
   ]
  },
  {
   "cell_type": "code",
   "execution_count": 112,
   "metadata": {},
   "outputs": [
    {
     "name": "stdout",
     "output_type": "stream",
     "text": [
      "s1 is:  {1, 4, 6}\n",
      "s2 is:  {2, 3, 5, 6}\n",
      "s3 is:  None\n",
      "----------------\n",
      "s1 is:  {1, 2, 3, 4, 5}\n",
      "s2 is:  {1, 4, 6}\n",
      "s3 is:  None\n",
      "---------------------------------------------------\n",
      "s1 is:  {1, 2, 3, 4, 5, 6, 7, 8}\n",
      "s2 is:  {4, 5, 6, 7, 8}\n",
      "s3 is:  None\n",
      "----------------\n",
      "s1 is:  {1, 2, 3}\n",
      "s2 is:  {1, 2, 3, 4, 5, 6, 7, 8}\n",
      "s3 is:  None\n"
     ]
    }
   ],
   "source": [
    "#15. symmetric_difference_update()\n",
    "''' Update a set with the symmetric difference of itself and another. '''\n",
    "\n",
    "\n",
    "##type1\n",
    "s1 = {1,2,3,4,5}\n",
    "s2 = {3,5,2,6,5}\n",
    "s3 = s1.symmetric_difference_update(s2)\n",
    "print(\"s1 is: \",s1)\n",
    "print(\"s2 is: \",s2)\n",
    "print(\"s3 is: \",s3)\n",
    "\n",
    "print('----------------')\n",
    "##type2\n",
    "s1 = {1,2,3,4,5}\n",
    "s2 = {3,5,2,6,5}\n",
    "s3 = s2.symmetric_difference_update(s1)\n",
    "print(\"s1 is: \",s1)\n",
    "print(\"s2 is: \",s2)\n",
    "print(\"s3 is: \",s3)\n",
    "\n",
    "print('---------------------------------------------------')\n",
    "##type3\n",
    "s1 = {1,2,3}\n",
    "s2 = {4,5,6,7,8}\n",
    "s3 = s1.symmetric_difference_update(s2)\n",
    "print(\"s1 is: \",s1)\n",
    "print(\"s2 is: \",s2)\n",
    "print(\"s3 is: \",s3)\n",
    "\n",
    "print('----------------')\n",
    "\n",
    "##type4\n",
    "s1 = {1,2,3}\n",
    "s2 = {4,5,6,7,8}\n",
    "s3 = s2.symmetric_difference_update(s1)\n",
    "print(\"s1 is: \",s1)\n",
    "print(\"s2 is: \",s2)\n",
    "print(\"s3 is: \",s3)"
   ]
  },
  {
   "cell_type": "code",
   "execution_count": 113,
   "metadata": {},
   "outputs": [
    {
     "name": "stdout",
     "output_type": "stream",
     "text": [
      "s1 is:  {1, 2, 3, 4, 5}\n",
      "s2 is:  {2, 3, 5, 6}\n",
      "s3 is:  {1, 2, 3, 4, 5, 6}\n",
      "------------------------------\n",
      "s1 is:  {1, 2, 3}\n",
      "s2 is:  {4, 5, 6, 7, 8}\n",
      "s3 is:  {1, 2, 3, 4, 5, 6, 7, 8}\n"
     ]
    }
   ],
   "source": [
    "#16. union()\n",
    "''' Return the union of sets as a new set. (i.e. all elements that are in either set.) '''\n",
    "\n",
    "##type1\n",
    "s1 = {1,2,3,4,5}\n",
    "s2 = {3,5,2,6,5}\n",
    "s3 = s1.union(s2)\n",
    "print(\"s1 is: \",s1)\n",
    "print(\"s2 is: \",s2)\n",
    "print(\"s3 is: \",s3)\n",
    "\n",
    "print('------------------------------')\n",
    "##type2\n",
    "s1 = {1,2,3}\n",
    "s2 = {4,5,6,7,8}\n",
    "s3 = s1.union(s2)\n",
    "print(\"s1 is: \",s1)\n",
    "print(\"s2 is: \",s2)\n",
    "print(\"s3 is: \",s3)"
   ]
  },
  {
   "cell_type": "code",
   "execution_count": 114,
   "metadata": {},
   "outputs": [
    {
     "name": "stdout",
     "output_type": "stream",
     "text": [
      "s1 is:  {1, 2, 3, 4, 5, 6}\n",
      "s2 is:  {2, 3, 5, 6}\n",
      "s3 is:  None\n",
      "------------------------------\n",
      "s1 is:  {1, 2, 3, 4, 5, 6, 7, 8}\n",
      "s2 is:  {4, 5, 6, 7, 8}\n",
      "s3 is:  None\n"
     ]
    }
   ],
   "source": [
    "#17. update()\n",
    "''' Update a set with the union of itself and others.  '''\n",
    "\n",
    "##type1\n",
    "s1 = {1,2,3,4,5}\n",
    "s2 = {3,5,2,6,5}\n",
    "s3 = s1.update(s2)\n",
    "print(\"s1 is: \",s1)\n",
    "print(\"s2 is: \",s2)\n",
    "print(\"s3 is: \",s3)\n",
    "\n",
    "print('------------------------------')\n",
    "##type2\n",
    "s1 = {1,2,3}\n",
    "s2 = {4,5,6,7,8}\n",
    "s3 = s1.update(s2)\n",
    "print(\"s1 is: \",s1)\n",
    "print(\"s2 is: \",s2)\n",
    "print(\"s3 is: \",s3)"
   ]
  },
  {
   "cell_type": "code",
   "execution_count": null,
   "metadata": {
    "collapsed": true
   },
   "outputs": [],
   "source": []
  },
  {
   "cell_type": "code",
   "execution_count": null,
   "metadata": {},
   "outputs": [],
   "source": []
  },
  {
   "cell_type": "code",
   "execution_count": null,
   "metadata": {},
   "outputs": [],
   "source": []
  },
  {
   "cell_type": "code",
   "execution_count": null,
   "metadata": {},
   "outputs": [],
   "source": []
  },
  {
   "cell_type": "code",
   "execution_count": null,
   "metadata": {},
   "outputs": [],
   "source": []
  },
  {
   "cell_type": "code",
   "execution_count": null,
   "metadata": {},
   "outputs": [],
   "source": []
  },
  {
   "cell_type": "code",
   "execution_count": null,
   "metadata": {},
   "outputs": [],
   "source": []
  }
 ],
 "metadata": {
  "kernelspec": {
   "display_name": "Python 3",
   "language": "python",
   "name": "python3"
  },
  "language_info": {
   "codemirror_mode": {
    "name": "ipython",
    "version": 3
   },
   "file_extension": ".py",
   "mimetype": "text/x-python",
   "name": "python",
   "nbconvert_exporter": "python",
   "pygments_lexer": "ipython3",
   "version": "3.8.8"
  }
 },
 "nbformat": 4,
 "nbformat_minor": 2
}
