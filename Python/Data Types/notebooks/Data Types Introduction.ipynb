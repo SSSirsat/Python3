{
 "cells": [
  {
   "cell_type": "markdown",
   "metadata": {},
   "source": [
    "# Standard Data Types:\n",
    "1. Values can be changed\n",
    "2. Values cannot be changed\n",
    "\n",
    "\n",
    "Values can be changed=Mutable Data Types\n",
    "---------------------------------------------------------------\n",
    "    1) Lists\n",
    "    2) Sets\n",
    "    3) Dictionaries\n",
    "  \n",
    "-----------------------------------------------\n",
    "Values cannot be changed=Immutable Data Types\n",
    "-----------------------------------------------------------------------\n",
    "    1) Numbers\n",
    "    2) Strings\n",
    "    3) Tuples"
   ]
  },
  {
   "cell_type": "markdown",
   "metadata": {},
   "source": []
  }
 ],
 "metadata": {
  "kernelspec": {
   "display_name": "Python 3",
   "language": "python",
   "name": "python3"
  },
  "language_info": {
   "codemirror_mode": {
    "name": "ipython",
    "version": 3
   },
   "file_extension": ".py",
   "mimetype": "text/x-python",
   "name": "python",
   "nbconvert_exporter": "python",
   "pygments_lexer": "ipython3",
   "version": "3.8.8"
  }
 },
 "nbformat": 4,
 "nbformat_minor": 2
}
