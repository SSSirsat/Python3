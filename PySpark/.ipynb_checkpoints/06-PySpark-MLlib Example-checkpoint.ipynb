{
 "cells": [
  {
   "cell_type": "markdown",
   "id": "c13cb9d0",
   "metadata": {},
   "source": [
    "# Example of PySpark ML"
   ]
  },
  {
   "cell_type": "code",
   "execution_count": 1,
   "id": "a1055eaf",
   "metadata": {},
   "outputs": [],
   "source": [
    "from pyspark.sql import SparkSession\n",
    "spark= SparkSession.builder.appName(\"ML\").getOrCreate()"
   ]
  },
  {
   "cell_type": "code",
   "execution_count": 2,
   "id": "563ef326",
   "metadata": {},
   "outputs": [],
   "source": [
    "training = spark.read.csv('test6.csv', header=True, inferSchema=True)"
   ]
  },
  {
   "cell_type": "code",
   "execution_count": 3,
   "id": "6ced35e9",
   "metadata": {},
   "outputs": [
    {
     "name": "stdout",
     "output_type": "stream",
     "text": [
      "+---------+---+----------+------+\n",
      "|     Name|age|Experience|Salary|\n",
      "+---------+---+----------+------+\n",
      "|  Shubham| 27|        10| 30000|\n",
      "|Suryakant| 30|         8| 25000|\n",
      "|    Sunny| 29|         4| 20000|\n",
      "|   Manish| 24|         3| 20000|\n",
      "|    Krish| 21|         1| 15000|\n",
      "|     Paul| 23|         2| 18000|\n",
      "+---------+---+----------+------+\n",
      "\n"
     ]
    }
   ],
   "source": [
    "training.show()"
   ]
  },
  {
   "cell_type": "code",
   "execution_count": 4,
   "id": "54f46fa7",
   "metadata": {},
   "outputs": [
    {
     "data": {
      "text/plain": [
       "['Name', 'age', 'Experience', 'Salary']"
      ]
     },
     "execution_count": 4,
     "metadata": {},
     "output_type": "execute_result"
    }
   ],
   "source": [
    "training.columns"
   ]
  },
  {
   "cell_type": "code",
   "execution_count": 5,
   "id": "a4aaf085",
   "metadata": {},
   "outputs": [],
   "source": [
    "# import ML lib"
   ]
  },
  {
   "cell_type": "code",
   "execution_count": 6,
   "id": "3732d91c",
   "metadata": {},
   "outputs": [],
   "source": [
    "from pyspark.ml.feature import VectorAssembler\n",
    "feaureassembler = VectorAssembler(inputCols=['age', 'Experience'], outputCol='Independent')"
   ]
  },
  {
   "cell_type": "code",
   "execution_count": 7,
   "id": "3084ed72",
   "metadata": {},
   "outputs": [],
   "source": [
    "output = feaureassembler.transform(training)"
   ]
  },
  {
   "cell_type": "code",
   "execution_count": 8,
   "id": "b620fea3",
   "metadata": {},
   "outputs": [
    {
     "name": "stdout",
     "output_type": "stream",
     "text": [
      "+---------+---+----------+------+-----------+\n",
      "|     Name|age|Experience|Salary|Independent|\n",
      "+---------+---+----------+------+-----------+\n",
      "|  Shubham| 27|        10| 30000|[27.0,10.0]|\n",
      "|Suryakant| 30|         8| 25000| [30.0,8.0]|\n",
      "|    Sunny| 29|         4| 20000| [29.0,4.0]|\n",
      "|   Manish| 24|         3| 20000| [24.0,3.0]|\n",
      "|    Krish| 21|         1| 15000| [21.0,1.0]|\n",
      "|     Paul| 23|         2| 18000| [23.0,2.0]|\n",
      "+---------+---+----------+------+-----------+\n",
      "\n"
     ]
    }
   ],
   "source": [
    "output.show()"
   ]
  },
  {
   "cell_type": "code",
   "execution_count": 9,
   "id": "2ac1908e",
   "metadata": {},
   "outputs": [
    {
     "data": {
      "text/plain": [
       "['Name', 'age', 'Experience', 'Salary', 'Independent']"
      ]
     },
     "execution_count": 9,
     "metadata": {},
     "output_type": "execute_result"
    }
   ],
   "source": [
    "output.columns"
   ]
  },
  {
   "cell_type": "code",
   "execution_count": 10,
   "id": "7d8572e1",
   "metadata": {},
   "outputs": [],
   "source": [
    "finalized_data = output.select('Independent','Salary')"
   ]
  },
  {
   "cell_type": "code",
   "execution_count": 11,
   "id": "692a4b1d",
   "metadata": {},
   "outputs": [
    {
     "name": "stdout",
     "output_type": "stream",
     "text": [
      "+-----------+------+\n",
      "|Independent|Salary|\n",
      "+-----------+------+\n",
      "|[27.0,10.0]| 30000|\n",
      "| [30.0,8.0]| 25000|\n",
      "| [29.0,4.0]| 20000|\n",
      "| [24.0,3.0]| 20000|\n",
      "| [21.0,1.0]| 15000|\n",
      "| [23.0,2.0]| 18000|\n",
      "+-----------+------+\n",
      "\n"
     ]
    }
   ],
   "source": [
    "finalized_data.show()"
   ]
  },
  {
   "cell_type": "code",
   "execution_count": 12,
   "id": "406e0562",
   "metadata": {},
   "outputs": [],
   "source": [
    "from pyspark.ml.regression import LinearRegression\n",
    "\n",
    "#train data split\n",
    "train_data,test_data = finalized_data.randomSplit([0.75,0.25])\n",
    "\n",
    "#model creatiion\n",
    "regressior = LinearRegression(featuresCol='Independent', labelCol='Salary')\n"
   ]
  },
  {
   "cell_type": "code",
   "execution_count": 13,
   "id": "681b7e43",
   "metadata": {},
   "outputs": [],
   "source": [
    "regressior = regressior.fit(train_data)"
   ]
  },
  {
   "cell_type": "code",
   "execution_count": 14,
   "id": "8371e8da",
   "metadata": {},
   "outputs": [
    {
     "data": {
      "text/plain": [
       "DenseVector([1000.0, 1000.0])"
      ]
     },
     "execution_count": 14,
     "metadata": {},
     "output_type": "execute_result"
    }
   ],
   "source": [
    "#cofficient\n",
    "regressior.coefficients"
   ]
  },
  {
   "cell_type": "code",
   "execution_count": 15,
   "id": "f7126818",
   "metadata": {},
   "outputs": [
    {
     "data": {
      "text/plain": [
       "-6999.999999994928"
      ]
     },
     "execution_count": 15,
     "metadata": {},
     "output_type": "execute_result"
    }
   ],
   "source": [
    "#intercept\n",
    "regressior.intercept"
   ]
  },
  {
   "cell_type": "code",
   "execution_count": 16,
   "id": "079c6692",
   "metadata": {},
   "outputs": [],
   "source": [
    "###prediction\n",
    "pred_result = regressior.evaluate(test_data)"
   ]
  },
  {
   "cell_type": "code",
   "execution_count": 17,
   "id": "aa2d34eb",
   "metadata": {},
   "outputs": [
    {
     "name": "stdout",
     "output_type": "stream",
     "text": [
      "+-----------+------+------------------+\n",
      "|Independent|Salary|        prediction|\n",
      "+-----------+------+------------------+\n",
      "| [24.0,3.0]| 20000|19999.999999999724|\n",
      "| [29.0,4.0]| 20000| 25999.99999999866|\n",
      "| [30.0,8.0]| 25000| 30999.99999999901|\n",
      "+-----------+------+------------------+\n",
      "\n"
     ]
    },
    {
     "name": "stderr",
     "output_type": "stream",
     "text": [
      "C:\\Users\\Shubham\\AppData\\Local\\Programs\\Python\\Python39\\lib\\site-packages\\pyspark\\sql\\context.py:125: FutureWarning: Deprecated in 3.0.0. Use SparkSession.builder.getOrCreate() instead.\n",
      "  warnings.warn(\n"
     ]
    }
   ],
   "source": [
    "pred_result.predictions.show()"
   ]
  },
  {
   "cell_type": "code",
   "execution_count": 18,
   "id": "c404231f",
   "metadata": {},
   "outputs": [
    {
     "data": {
      "text/plain": [
       "(3999.999999999316, 23999999.999990687)"
      ]
     },
     "execution_count": 18,
     "metadata": {},
     "output_type": "execute_result"
    }
   ],
   "source": [
    "pred_result.meanAbsoluteError, pred_result.meanSquaredError"
   ]
  },
  {
   "cell_type": "code",
   "execution_count": null,
   "id": "42c664a6",
   "metadata": {},
   "outputs": [],
   "source": []
  }
 ],
 "metadata": {
  "kernelspec": {
   "display_name": "pyspark",
   "language": "python",
   "name": "pyspark"
  },
  "language_info": {
   "codemirror_mode": {
    "name": "ipython",
    "version": 3
   },
   "file_extension": ".py",
   "mimetype": "text/x-python",
   "name": "python",
   "nbconvert_exporter": "python",
   "pygments_lexer": "ipython3",
   "version": "3.9.10"
  }
 },
 "nbformat": 4,
 "nbformat_minor": 5
}
