{
 "cells": [
  {
   "cell_type": "code",
   "execution_count": 1,
   "metadata": {},
   "outputs": [
    {
     "data": {
      "text/plain": [
       "[[2, 3, 4], [5, 6, 7], [8, 9, 10]]"
      ]
     },
     "execution_count": 1,
     "metadata": {},
     "output_type": "execute_result"
    }
   ],
   "source": [
    "x = [[1,2,3],[4,5,6],[7,8,9]]\n",
    "[[number+1 for number in group] for group in x]"
   ]
  },
  {
   "cell_type": "code",
   "execution_count": 2,
   "metadata": {},
   "outputs": [
    {
     "data": {
      "text/plain": [
       "[<map at 0x1dfd92040f0>, <map at 0x1dfd9204438>, <map at 0x1dfd92042e8>]"
      ]
     },
     "execution_count": 2,
     "metadata": {},
     "output_type": "execute_result"
    }
   ],
   "source": [
    "[list(map(lambda x:x+1,group)) for group in x]"
   ]
  },
  {
   "cell_type": "code",
   "execution_count": 6,
   "metadata": {},
   "outputs": [],
   "source": [
    "coordinates=[[x,y,z] for x in range(4) for y in range(4) for z in range(4)]"
   ]
  },
  {
   "cell_type": "code",
   "execution_count": 8,
   "metadata": {},
   "outputs": [
    {
     "data": {
      "text/plain": [
       "[1.0]"
      ]
     },
     "execution_count": 8,
     "metadata": {},
     "output_type": "execute_result"
    }
   ],
   "source": [
    "    l a b c d e f\n",
    "l = [ [ [ [ [ [ 1 ] ] ] ] ] ]\n",
    "[float(f) for a in l for b in a for c in b for d in c for e in d for f in e]"
   ]
  },
  {
   "cell_type": "code",
   "execution_count": 9,
   "metadata": {},
   "outputs": [],
   "source": [
    "l = [['40', '20', '10', '30'], ['20', '20', '20', '20', '20', '30', '20'], ['30', '20', '30', '50', '10', '30', '20', '20', '20'], ['100', '100'], ['100', '100', '100', '100', '100'], ['100', '100', '100', '100']]\n",
    "new_list = [float(x) for xs in l for x in xs]"
   ]
  },
  {
   "cell_type": "code",
   "execution_count": 11,
   "metadata": {},
   "outputs": [
    {
     "name": "stdout",
     "output_type": "stream",
     "text": [
      "1 loop, best of 5: 17.8 sec per loop\n"
     ]
    }
   ],
   "source": [
    "!python -m timeit \"[[float(y) for y in x] for x in [list(range(0,1000))]*100000]\""
   ]
  },
  {
   "cell_type": "code",
   "execution_count": 12,
   "metadata": {},
   "outputs": [
    {
     "name": "stdout",
     "output_type": "stream",
     "text": [
      "[[1, 'A'], [1, 'B'], [1, 'C'], [1, 'D'], [1, 'E'], [2, 'A'], [2, 'B'], [2, 'C'], [2, 'D'], [2, 'E'], [3, 'A'], [3, 'B'], [3, 'C'], [3, 'D'], [3, 'E'], [4, 'A'], [4, 'B'], [4, 'C'], [4, 'D'], [4, 'E'], [5, 'A'], [5, 'B'], [5, 'C'], [5, 'D'], [5, 'E']]\n"
     ]
    }
   ],
   "source": [
    "nums = [1, 2, 3, 4, 5]\n",
    "letters = ['A', 'B', 'C', 'D', 'E']\n",
    "nums_letters = [[n, l] for n in nums for l in letters]\n",
    "print(nums_letters)"
   ]
  },
  {
   "cell_type": "code",
   "execution_count": 1,
   "metadata": {},
   "outputs": [
    {
     "data": {
      "text/plain": [
       "[['man', 'thats'], ['right', 'awesome']]"
      ]
     },
     "execution_count": 1,
     "metadata": {},
     "output_type": "execute_result"
    }
   ],
   "source": [
    "tags = [u'man', u'you', u'are', u'awesome']\n",
    "entries = [[u'man', u'thats'],[ u'right',u'awesome']]\n",
    "result = []\n",
    "\n",
    "[entry for tag in tags for entry in entries if tag in entry]"
   ]
  },
  {
   "cell_type": "code",
   "execution_count": 19,
   "metadata": {},
   "outputs": [
    {
     "data": {
      "text/plain": [
       "['ch101',\n",
       " 'ch102',\n",
       " 'ch103',\n",
       " 'ch104',\n",
       " 'ch105',\n",
       " 'ch201',\n",
       " 'ch202',\n",
       " 'ch203',\n",
       " 'ch204',\n",
       " 'ch205']"
      ]
     },
     "execution_count": 19,
     "metadata": {},
     "output_type": "execute_result"
    }
   ],
   "source": [
    "['ch%.1d%.2d' % (y, x) for y in range(1,3) for x in range(1,6)]"
   ]
  },
  {
   "cell_type": "code",
   "execution_count": 20,
   "metadata": {},
   "outputs": [],
   "source": [
    "final_list = ['ch{}{}'.format(x*10,y) for x in range(1,12) for y in range(1,6)]"
   ]
  },
  {
   "cell_type": "code",
   "execution_count": 21,
   "metadata": {},
   "outputs": [
    {
     "data": {
      "text/plain": [
       "['ch101',\n",
       " 'ch102',\n",
       " 'ch103',\n",
       " 'ch104',\n",
       " 'ch105',\n",
       " 'ch201',\n",
       " 'ch202',\n",
       " 'ch203',\n",
       " 'ch204',\n",
       " 'ch205',\n",
       " 'ch301',\n",
       " 'ch302',\n",
       " 'ch303',\n",
       " 'ch304',\n",
       " 'ch305',\n",
       " 'ch401',\n",
       " 'ch402',\n",
       " 'ch403',\n",
       " 'ch404',\n",
       " 'ch405',\n",
       " 'ch501',\n",
       " 'ch502',\n",
       " 'ch503',\n",
       " 'ch504',\n",
       " 'ch505',\n",
       " 'ch601',\n",
       " 'ch602',\n",
       " 'ch603',\n",
       " 'ch604',\n",
       " 'ch605',\n",
       " 'ch701',\n",
       " 'ch702',\n",
       " 'ch703',\n",
       " 'ch704',\n",
       " 'ch705',\n",
       " 'ch801',\n",
       " 'ch802',\n",
       " 'ch803',\n",
       " 'ch804',\n",
       " 'ch805',\n",
       " 'ch901',\n",
       " 'ch902',\n",
       " 'ch903',\n",
       " 'ch904',\n",
       " 'ch905',\n",
       " 'ch1001',\n",
       " 'ch1002',\n",
       " 'ch1003',\n",
       " 'ch1004',\n",
       " 'ch1005',\n",
       " 'ch1101',\n",
       " 'ch1102',\n",
       " 'ch1103',\n",
       " 'ch1104',\n",
       " 'ch1105']"
      ]
     },
     "execution_count": 21,
     "metadata": {},
     "output_type": "execute_result"
    }
   ],
   "source": [
    "final_list"
   ]
  },
  {
   "cell_type": "code",
   "execution_count": 22,
   "metadata": {},
   "outputs": [],
   "source": [
    "final_list=['ch1%.2d' % x for x in range(1,6)]+['ch2%.2d' % x for x in range(1,6)]"
   ]
  },
  {
   "cell_type": "code",
   "execution_count": 23,
   "metadata": {},
   "outputs": [
    {
     "data": {
      "text/plain": [
       "['ch101',\n",
       " 'ch102',\n",
       " 'ch103',\n",
       " 'ch104',\n",
       " 'ch105',\n",
       " 'ch201',\n",
       " 'ch202',\n",
       " 'ch203',\n",
       " 'ch204',\n",
       " 'ch205']"
      ]
     },
     "execution_count": 23,
     "metadata": {},
     "output_type": "execute_result"
    }
   ],
   "source": [
    "final_list"
   ]
  },
  {
   "cell_type": "code",
   "execution_count": 24,
   "metadata": {},
   "outputs": [
    {
     "data": {
      "text/plain": [
       "[2, 4, 6, 8]"
      ]
     },
     "execution_count": 24,
     "metadata": {},
     "output_type": "execute_result"
    }
   ],
   "source": [
    "[x for x in range(20) if all([1 < x < 10, not x & 1])]"
   ]
  },
  {
   "cell_type": "code",
   "execution_count": 25,
   "metadata": {},
   "outputs": [
    {
     "name": "stdout",
     "output_type": "stream",
     "text": [
      "['blowfish', 'clownfish', 'catfish']\n"
     ]
    }
   ],
   "source": [
    "fish_tuple = ('blowfish', 'clownfish', 'catfish', 'octopus')\n",
    "\n",
    "fish_list = [fish for fish in fish_tuple if fish != 'octopus']\n",
    "print(fish_list)"
   ]
  },
  {
   "cell_type": "code",
   "execution_count": 27,
   "metadata": {},
   "outputs": [
    {
     "data": {
      "text/plain": [
       "[40, 80, 120, 80, 160, 240, 120, 240, 360]"
      ]
     },
     "execution_count": 27,
     "metadata": {},
     "output_type": "execute_result"
    }
   ],
   "source": [
    "[x * y for x in [20, 40, 60] for y in [2, 4, 6]]"
   ]
  },
  {
   "cell_type": "code",
   "execution_count": 37,
   "metadata": {},
   "outputs": [
    {
     "name": "stdout",
     "output_type": "stream",
     "text": [
      "Output List using for loop: [2, 4, 4, 6]\n"
     ]
    }
   ],
   "source": [
    "# Constructing output list WITHOUT \n",
    "# Using List comprehensions \n",
    "input_list = [1, 2, 3, 4, 4, 5, 6, 7, 7] \n",
    "  \n",
    "output_list = [] \n",
    "  \n",
    "# Using loop for constructing output list \n",
    "for var in input_list: \n",
    "    if var % 2 == 0: \n",
    "        output_list.append(var) \n",
    "  \n",
    "print(\"Output List using for loop:\", output_list) \n"
   ]
  },
  {
   "cell_type": "code",
   "execution_count": 1,
   "metadata": {},
   "outputs": [
    {
     "name": "stdout",
     "output_type": "stream",
     "text": [
      "[0, 2, 4, 6, 8, 10, 12, 14, 16, 18]\n",
      "[0, 3, 6, 9, 12, 15, 18]\n",
      "[0, 6, 12, 18]\n"
     ]
    }
   ],
   "source": [
    "A = [a for a in range(20) if a % 2 == 0]\n",
    "B = [b for b in range(20) if b % 3 == 0]\n",
    "C = [c for c in range(20) if c in A and c in B]\n",
    "print(A)\n",
    "print(B)\n",
    "print(C)"
   ]
  },
  {
   "cell_type": "markdown",
   "metadata": {},
   "source": [
    "# Generator Comprehensions:"
   ]
  },
  {
   "cell_type": "markdown",
   "metadata": {},
   "source": [
    "generators don’t allocate memory for the whole list. Instead, they generate each value one by one which is why they are memory efficient. "
   ]
  },
  {
   "cell_type": "code",
   "execution_count": 29,
   "metadata": {},
   "outputs": [
    {
     "name": "stdout",
     "output_type": "stream",
     "text": [
      "Output values using generator comprehensions: 2 4 4 6 "
     ]
    }
   ],
   "source": [
    "input_list = [1, 2, 3, 4, 4, 5, 6, 7, 7] \n",
    "  \n",
    "output_gen = (var for var in input_list if var % 2 == 0) \n",
    "  \n",
    "print(\"Output values using generator comprehensions:\", end = ' ') \n",
    "  \n",
    "for var in output_gen: \n",
    "    print(var, end = ' ')"
   ]
  }
 ],
 "metadata": {
  "kernelspec": {
   "display_name": "Python 3",
   "language": "python",
   "name": "python3"
  },
  "language_info": {
   "codemirror_mode": {
    "name": "ipython",
    "version": 3
   },
   "file_extension": ".py",
   "mimetype": "text/x-python",
   "name": "python",
   "nbconvert_exporter": "python",
   "pygments_lexer": "ipython3",
   "version": "3.7.3"
  }
 },
 "nbformat": 4,
 "nbformat_minor": 2
}
