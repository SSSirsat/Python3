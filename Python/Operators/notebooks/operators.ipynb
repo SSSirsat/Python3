{
 "cells": [
  {
   "cell_type": "markdown",
   "metadata": {},
   "source": [
    "# Operators\n",
    "\n",
    "\n",
    "Operators are the constructs which can manipulate the values of the Operands. Consider the expression 1+2=3, here 1 and 2 are Operands and + is called Operator"
   ]
  },
  {
   "cell_type": "markdown",
   "metadata": {},
   "source": [
    "7 Types of Operators:\n",
    "\n",
    "1. Arithmetic\n",
    "2. Assignment\n",
    "3. Comparision\n",
    "4. Logical\n",
    "5. Bitwise\n",
    "6. Identity\n",
    "7. Membership"
   ]
  },
  {
   "cell_type": "markdown",
   "metadata": {},
   "source": [
    "# 1. Arithmetic\n",
    "\n",
    "1. Addition = a+b\n",
    "\n",
    "2. Subtraction = a-b\n",
    "\n",
    "3. Multiplication = a*b\n",
    "\n",
    "4. Division = a/b\n",
    "\n",
    "5. Modulus = a%b\n",
    "\n",
    "6. Exponent = a**b\n",
    "\n",
    "7. Floor Division = a//b"
   ]
  },
  {
   "cell_type": "markdown",
   "metadata": {},
   "source": [
    "# 2. Assignment\n",
    "\n",
    "Assigns value from right to left => a=b\n",
    "\n",
    "1. a=a+b => a+=b\n",
    "\n",
    "2. a=a-b => a-=b\n",
    "\n",
    "3. a=a*b => a*=b\n",
    "\n",
    "4. a=a/b => a/=b\n",
    "\n",
    "5. a=a**b => a**=b\n",
    "\n",
    "6. a=a//b => a//=b"
   ]
  },
  {
   "cell_type": "markdown",
   "metadata": {},
   "source": [
    "# 3. Comparision (or) Relational Operators\n",
    "\n",
    "Gives the result as True or False, which are Python Keywords\n",
    "\n",
    "1. Equal To => a==b\n",
    "\n",
    "2. Not Equal To => a!=b\n",
    "\n",
    "3. <>\n",
    "\n",
    "4. Greater Than => a>b\n",
    "\n",
    "5. Less Than => a<b\n",
    "\n",
    "6. Greater Than Equal To => a>=b\n",
    "\n",
    "7. Less Than Equal To => a<=b"
   ]
  },
  {
   "cell_type": "markdown",
   "metadata": {},
   "source": [
    "# 4. Logical Operators\n",
    "\n",
    "1. a and b => return lowest value\n",
    "\n",
    "2. a or b => returns highest value\n",
    "\n",
    "3. not a"
   ]
  },
  {
   "cell_type": "markdown",
   "metadata": {},
   "source": [
    "# 5. Bitwise Operators\n",
    "\n",
    "1. Bitwise AND (or) Binary AND => a&b\n",
    "\n",
    "2. Bitwise OR (or) Binary OR => a|b\n",
    "\n",
    "3. Bitwise XOR (or) Binary XOR => a^b\n",
    "\n",
    "4. Bitwise Complement/Bitwise Not (or) Binary NOT => a~b\n",
    "\n",
    "5. Bitwise Left Shift (or) Binary Left Shift => a<<b\n",
    "\n",
    "6. Bitwise Right Shift (or) Binary Right Shift => a>>b"
   ]
  },
  {
   "cell_type": "markdown",
   "metadata": {},
   "source": [
    "# 6. Identity Operators\n",
    "\n",
    "1. is  => Evaluates to TRUE if the variables on either side of the operator point to the same object and FALSE otherwise\n",
    "\n",
    "2. is not => Evaluates to FLASE if the variables on either side of the operator point to the same object and TRUE otherwise"
   ]
  },
  {
   "cell_type": "code",
   "execution_count": 1,
   "metadata": {},
   "outputs": [
    {
     "name": "stdout",
     "output_type": "stream",
     "text": [
      "True\n"
     ]
    }
   ],
   "source": [
    "today='friday'\n",
    "good_day='friday'\n",
    "print(today is good_day)"
   ]
  },
  {
   "cell_type": "markdown",
   "metadata": {},
   "source": [
    "# 7. Membership Operators\n",
    "\n",
    "1. in => Evaluates to TRUE if it finds a variable in the specified sequence and FALSE otherwise\n",
    "\n",
    "2. not in => Evaluates to TRUE if it does not find a variable in the specified sequence and FALSE otherwise\n"
   ]
  },
  {
   "cell_type": "code",
   "execution_count": 2,
   "metadata": {},
   "outputs": [
    {
     "name": "stdout",
     "output_type": "stream",
     "text": [
      "True\n"
     ]
    }
   ],
   "source": [
    "list=[1,2,3,4]\n",
    "print(4 in list)"
   ]
  },
  {
   "cell_type": "code",
   "execution_count": 3,
   "metadata": {
    "scrolled": false
   },
   "outputs": [
    {
     "name": "stdout",
     "output_type": "stream",
     "text": [
      "True\n"
     ]
    }
   ],
   "source": [
    "print(5 not in list)"
   ]
  }
 ],
 "metadata": {
  "kernelspec": {
   "display_name": "Python 3",
   "language": "python",
   "name": "python3"
  },
  "language_info": {
   "codemirror_mode": {
    "name": "ipython",
    "version": 3
   },
   "file_extension": ".py",
   "mimetype": "text/x-python",
   "name": "python",
   "nbconvert_exporter": "python",
   "pygments_lexer": "ipython3",
   "version": "3.7.6"
  }
 },
 "nbformat": 4,
 "nbformat_minor": 2
}
