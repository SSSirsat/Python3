{
 "cells": [
  {
   "cell_type": "markdown",
   "metadata": {},
   "source": [
    "# Dictionaries - Mutable Data type"
   ]
  },
  {
   "cell_type": "markdown",
   "metadata": {},
   "source": [
    "Dictionaries contain key value pairs. Each key is seperated from its value by a colon(:), the items are seperated by comma and the whole thing is enclosed within curly braces.\n",
    "\n",
    "\n",
    "Dictionary={'key':values}"
   ]
  },
  {
   "cell_type": "code",
   "execution_count": 1,
   "metadata": {},
   "outputs": [],
   "source": [
    "dict={'a':[1,2,3],'b':[4,5,6]}"
   ]
  },
  {
   "cell_type": "code",
   "execution_count": 5,
   "metadata": {},
   "outputs": [
    {
     "data": {
      "text/plain": [
       "2"
      ]
     },
     "execution_count": 5,
     "metadata": {},
     "output_type": "execute_result"
    }
   ],
   "source": [
    "dict['a'][1]"
   ]
  },
  {
   "cell_type": "markdown",
   "metadata": {},
   "source": [
    "Dictionaries values can be anything like lists (or) dictionaries\n",
    "\n",
    "\n",
    "array within a dictionary\n",
    "\n",
    "dictionay within a dictionary"
   ]
  },
  {
   "cell_type": "code",
   "execution_count": 7,
   "metadata": {},
   "outputs": [],
   "source": [
    "dict={'a':[1,2,3],'b':11,'c':{1,2,3}}"
   ]
  },
  {
   "cell_type": "markdown",
   "metadata": {},
   "source": [
    "# Dictionary Introduction:"
   ]
  },
  {
   "cell_type": "code",
   "execution_count": 76,
   "metadata": {
    "collapsed": true
   },
   "outputs": [],
   "source": [
    "#dictionary{keys:values}\n",
    "#item = key and value"
   ]
  },
  {
   "cell_type": "markdown",
   "metadata": {},
   "source": [
    "## Creating an empty dictionary:"
   ]
  },
  {
   "cell_type": "code",
   "execution_count": 77,
   "metadata": {
    "collapsed": true
   },
   "outputs": [],
   "source": [
    "#dicionary\n",
    "#two ways of creating an empty dictionary\n",
    "d = {}\n",
    "dd = dict()"
   ]
  },
  {
   "cell_type": "markdown",
   "metadata": {},
   "source": [
    "## Indexing and slicing:"
   ]
  },
  {
   "cell_type": "code",
   "execution_count": 78,
   "metadata": {},
   "outputs": [
    {
     "name": "stdout",
     "output_type": "stream",
     "text": [
      "123\n",
      "3\n",
      "['2', '3']\n",
      "['3', '2', '1']\n"
     ]
    }
   ],
   "source": [
    "#indexing and slicing\n",
    "d = {'k1':123,'k2':'123','k3':[1,2,3],'k4':['1','2','3'],'k5':(1,2,3)}\n",
    "print(d['k1'])\n",
    "print(d['k2'][2]) \n",
    "print(d['k4'][1:])\n",
    "print(d['k4'][2::-1])"
   ]
  },
  {
   "cell_type": "markdown",
   "metadata": {},
   "source": [
    "## Built-in-functions:\n"
   ]
  },
  {
   "cell_type": "code",
   "execution_count": 79,
   "metadata": {},
   "outputs": [
    {
     "data": {
      "text/plain": [
       "['__class__',\n",
       " '__contains__',\n",
       " '__delattr__',\n",
       " '__delitem__',\n",
       " '__dir__',\n",
       " '__doc__',\n",
       " '__eq__',\n",
       " '__format__',\n",
       " '__ge__',\n",
       " '__getattribute__',\n",
       " '__getitem__',\n",
       " '__gt__',\n",
       " '__hash__',\n",
       " '__init__',\n",
       " '__init_subclass__',\n",
       " '__iter__',\n",
       " '__le__',\n",
       " '__len__',\n",
       " '__lt__',\n",
       " '__ne__',\n",
       " '__new__',\n",
       " '__reduce__',\n",
       " '__reduce_ex__',\n",
       " '__repr__',\n",
       " '__setattr__',\n",
       " '__setitem__',\n",
       " '__sizeof__',\n",
       " '__str__',\n",
       " '__subclasshook__',\n",
       " 'clear',\n",
       " 'copy',\n",
       " 'fromkeys',\n",
       " 'get',\n",
       " 'items',\n",
       " 'keys',\n",
       " 'pop',\n",
       " 'popitem',\n",
       " 'setdefault',\n",
       " 'update',\n",
       " 'values']"
      ]
     },
     "execution_count": 79,
     "metadata": {},
     "output_type": "execute_result"
    }
   ],
   "source": [
    "dir(d)"
   ]
  },
  {
   "cell_type": "code",
   "execution_count": 80,
   "metadata": {},
   "outputs": [
    {
     "name": "stdout",
     "output_type": "stream",
     "text": [
      "{}\n"
     ]
    }
   ],
   "source": [
    "#1. clear()\n",
    "d = {'k1':'v1','k2':'v2'}\n",
    "d.clear()\n",
    "print(d)"
   ]
  },
  {
   "cell_type": "code",
   "execution_count": 81,
   "metadata": {},
   "outputs": [
    {
     "name": "stdout",
     "output_type": "stream",
     "text": [
      "{'k1': 'v1', 'k2': 'v2'}\n"
     ]
    }
   ],
   "source": [
    "#2. copy\n",
    "d1 = {'k1':'v1','k2':'v2'}\n",
    "d2 = {}\n",
    "d2 = d1.copy()\n",
    "print(d2)"
   ]
  },
  {
   "cell_type": "code",
   "execution_count": 82,
   "metadata": {},
   "outputs": [
    {
     "data": {
      "text/plain": [
       "{'k': 'v3', '3': 'v3'}"
      ]
     },
     "execution_count": 82,
     "metadata": {},
     "output_type": "execute_result"
    }
   ],
   "source": [
    "#3. fromkeys\n",
    "#Create a new dictionary with keys from iterable and values set to value.\n",
    "d = {'k1':'v1','k2':'v2'}\n",
    "d.fromkeys(\"k3\",\"v3\")"
   ]
  },
  {
   "cell_type": "code",
   "execution_count": 83,
   "metadata": {},
   "outputs": [
    {
     "name": "stdout",
     "output_type": "stream",
     "text": [
      "v1\n",
      "None\n"
     ]
    }
   ],
   "source": [
    "#4. get()\n",
    "d = {'k1':'v1','k2':'v2'}\n",
    "print(d.get('k1'))\n",
    "print(d.get('k3'))"
   ]
  },
  {
   "cell_type": "code",
   "execution_count": 84,
   "metadata": {},
   "outputs": [
    {
     "data": {
      "text/plain": [
       "dict_items([('k1', 'v1'), ('k2', 'v2')])"
      ]
     },
     "execution_count": 84,
     "metadata": {},
     "output_type": "execute_result"
    }
   ],
   "source": [
    "#5. items()\n",
    "d = {'k1':'v1','k2':'v2'}\n",
    "d.items()"
   ]
  },
  {
   "cell_type": "code",
   "execution_count": 85,
   "metadata": {},
   "outputs": [
    {
     "data": {
      "text/plain": [
       "dict_keys(['k1', 'k2'])"
      ]
     },
     "execution_count": 85,
     "metadata": {},
     "output_type": "execute_result"
    }
   ],
   "source": [
    "#6. keys()\n",
    "d = {'k1':'v1','k2':'v2'}\n",
    "d.keys()"
   ]
  },
  {
   "cell_type": "code",
   "execution_count": 86,
   "metadata": {},
   "outputs": [
    {
     "name": "stdout",
     "output_type": "stream",
     "text": [
      "v1\n",
      "{'k2': 'v2', 'k3': 'v3', 'k4': 'v4'}\n",
      "v2\n"
     ]
    }
   ],
   "source": [
    "#7. pop()\n",
    "d = {'k1':'v1','k2':'v2','k3':'v3','k4':'v4'}\n",
    "print(d.pop('k1'))\n",
    "print(d)\n",
    "print(d.pop('k2'))"
   ]
  },
  {
   "cell_type": "code",
   "execution_count": 87,
   "metadata": {},
   "outputs": [
    {
     "name": "stdout",
     "output_type": "stream",
     "text": [
      "('k4', 'v4')\n",
      "{'k1': 'v1', 'k2': 'v2', 'k3': 'v3'}\n",
      "('k3', 'v3')\n"
     ]
    }
   ],
   "source": [
    "#7. popitem()\n",
    "d = {'k1':'v1','k2':'v2','k3':'v3','k4':'v4'}\n",
    "print(d.popitem())\n",
    "print(d)\n",
    "print(d.popitem())\n"
   ]
  },
  {
   "cell_type": "code",
   "execution_count": 88,
   "metadata": {},
   "outputs": [
    {
     "name": "stdout",
     "output_type": "stream",
     "text": [
      "v5\n",
      "v2\n"
     ]
    },
    {
     "data": {
      "text/plain": [
       "{'k1': 'v1', 'k2': 'v2', 'k3': 'v3', 'k4': 'v4', 'k5': 'v5'}"
      ]
     },
     "execution_count": 88,
     "metadata": {},
     "output_type": "execute_result"
    }
   ],
   "source": [
    "#8. setdefault()\n",
    "# Insert key with a value of default if key is not in the dictionary.\n",
    "d = {'k1':'v1','k2':'v2','k3':'v3','k4':'v4'}\n",
    "print(d.setdefault('k5','v5'))\n",
    "print(d.setdefault('k2','vv2'))\n",
    "d"
   ]
  },
  {
   "cell_type": "code",
   "execution_count": 89,
   "metadata": {},
   "outputs": [
    {
     "name": "stdout",
     "output_type": "stream",
     "text": [
      "kk2\n"
     ]
    }
   ],
   "source": [
    "#9. update()\n",
    "#used to update the value of a key, a key can never be changed again\n",
    "#here , we used a for loop to update a value of a key\n",
    "d = {'k1':'v1','k2':'v2','k3':'v3','k4':'v4'}\n",
    "for k in d:\n",
    "    if k=='k2':\n",
    "        d[k] = 'kk2'\n",
    "\n",
    "print(d['k2'])"
   ]
  },
  {
   "cell_type": "code",
   "execution_count": 90,
   "metadata": {},
   "outputs": [
    {
     "data": {
      "text/plain": [
       "dict_values(['v1', 'v2', 'v3', 'v4'])"
      ]
     },
     "execution_count": 90,
     "metadata": {},
     "output_type": "execute_result"
    }
   ],
   "source": [
    "#10. values()\n",
    "d = {'k1':'v1','k2':'v2','k3':'v3','k4':'v4'}\n",
    "d.values()"
   ]
  },
  {
   "cell_type": "markdown",
   "metadata": {},
   "source": [
    "## Nested dictionary:"
   ]
  },
  {
   "cell_type": "code",
   "execution_count": 91,
   "metadata": {},
   "outputs": [
    {
     "name": "stdout",
     "output_type": "stream",
     "text": [
      "{'nestedk1': {'subnestedk1': 'v1'}}\n",
      "{'subnestedk1': 'v1'}\n",
      "v1\n",
      "dict_keys(['nestedk1'])\n",
      "dict_keys(['subnestedk1'])\n"
     ]
    }
   ],
   "source": [
    "#NESTED DICTIONARY\n",
    "d = {'k1':{'nestedk1':{'subnestedk1':'v1'}}}\n",
    "print(d['k1'])\n",
    "print(d['k1']['nestedk1'])\n",
    "print(d['k1']['nestedk1']['subnestedk1'])\n",
    "print(d['k1'].keys())\n",
    "print(d['k1']['nestedk1'].keys())\n",
    "#print(d['k1']['nestedk1']['subnestedk1'].keys())"
   ]
  },
  {
   "cell_type": "code",
   "execution_count": 92,
   "metadata": {},
   "outputs": [
    {
     "name": "stdout",
     "output_type": "stream",
     "text": [
      "2\n",
      "dict_keys(['k1'])\n",
      "dict_keys(['k2'])\n",
      "dict_keys(['k3'])\n"
     ]
    }
   ],
   "source": [
    "d = {'k1':{'k2':{'k3':[1,2,3]}}}\n",
    "print(d['k1']['k2']['k3'][1])\n",
    "print(d.keys())\n",
    "print(d['k1'].keys())\n",
    "print(d['k1']['k2'].keys())"
   ]
  },
  {
   "cell_type": "markdown",
   "metadata": {},
   "source": [
    "## Dictionary comprehension"
   ]
  },
  {
   "cell_type": "code",
   "execution_count": 93,
   "metadata": {},
   "outputs": [
    {
     "data": {
      "text/plain": [
       "{0: 0, 1: 1, 2: 4, 3: 9, 4: 16, 5: 25, 6: 36, 7: 49, 8: 64, 9: 81}"
      ]
     },
     "execution_count": 93,
     "metadata": {},
     "output_type": "execute_result"
    }
   ],
   "source": [
    "### ----- Dictionary Comprehension ----- ###\n",
    "#Syntax for dictionray Comprehension\n",
    "''' {key:value for item in list if condition} '''\n",
    "\n",
    "{x:x**2 for x in range(10)}"
   ]
  }
 ],
 "metadata": {
  "kernelspec": {
   "display_name": "Python 3",
   "language": "python",
   "name": "python3"
  },
  "language_info": {
   "codemirror_mode": {
    "name": "ipython",
    "version": 3
   },
   "file_extension": ".py",
   "mimetype": "text/x-python",
   "name": "python",
   "nbconvert_exporter": "python",
   "pygments_lexer": "ipython3",
   "version": "3.8.8"
  }
 },
 "nbformat": 4,
 "nbformat_minor": 2
}
