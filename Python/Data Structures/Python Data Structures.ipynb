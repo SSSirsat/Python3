{
 "cells": [
  {
   "cell_type": "markdown",
   "metadata": {},
   "source": [
    "# Program to remove duplicates from a list"
   ]
  },
  {
   "cell_type": "code",
   "execution_count": 22,
   "metadata": {},
   "outputs": [],
   "source": [
    "numbers=[3,5,7,9,3,4,6,7,3,6,4,8,2,1,3,5,7,9,3]\n",
    "\n",
    "for i in range(len(numbers)):\n",
    "    for j in range(i+1,len(numbers)):\n",
    "        if numbers[i]==numbers[j]:\n",
    "            print(str(numbers[i]) + \" is duplicate\")\n",
    "            break"
   ]
  },
  {
   "cell_type": "markdown",
   "metadata": {},
   "source": [
    "# Program to remove duplicates from a list and print index numbers for the first duplicate element"
   ]
  },
  {
   "cell_type": "code",
   "execution_count": 28,
   "metadata": {},
   "outputs": [
    {
     "name": "stdout",
     "output_type": "stream",
     "text": [
      "3 is duplicate\n",
      "5 is duplicate\n",
      "7 is duplicate\n",
      "9 is duplicate\n",
      "3 is duplicate\n",
      "4 is duplicate\n",
      "6 is duplicate\n",
      "7 is duplicate\n",
      "3 is duplicate\n",
      "3 is duplicate\n",
      "3\n",
      "0\n",
      "3\n",
      "4\n",
      "3\n",
      "8\n",
      "3\n",
      "14\n",
      "3\n",
      "18\n"
     ]
    },
    {
     "data": {
      "text/plain": [
       "3"
      ]
     },
     "execution_count": 28,
     "metadata": {},
     "output_type": "execute_result"
    }
   ],
   "source": [
    "numbers=[3,5,7,9,3,4,6,7,3,6,4,8,2,1,3,5,7,9,3]\n",
    "duplicate=None\n",
    "for i in range(len(numbers)):\n",
    "    for j in range(i+1,len(numbers)):\n",
    "        if numbers[i]==numbers[j]:\n",
    "            print(str(numbers[i]) + \" is duplicate\")\n",
    "            duplicate=numbers[i]\n",
    "            break\n",
    "            \n",
    "for i in range(len(numbers)):\n",
    "    if numbers[i]==duplicate:\n",
    "        print(duplicate)\n",
    "        print(i)"
   ]
  }
 ],
 "metadata": {
  "kernelspec": {
   "display_name": "Python 3",
   "language": "python",
   "name": "python3"
  },
  "language_info": {
   "codemirror_mode": {
    "name": "ipython",
    "version": 3
   },
   "file_extension": ".py",
   "mimetype": "text/x-python",
   "name": "python",
   "nbconvert_exporter": "python",
   "pygments_lexer": "ipython3",
   "version": "3.8.5"
  }
 },
 "nbformat": 4,
 "nbformat_minor": 4
}
