{
 "cells": [
  {
   "cell_type": "markdown",
   "id": "2e315669",
   "metadata": {},
   "source": [
    "# PySpark DataFrame\n",
    "\n",
    "- Filter Opetations\n",
    "    - & , | , ==\n",
    "    - ~"
   ]
  },
  {
   "cell_type": "code",
   "execution_count": 1,
   "id": "3f876b1b",
   "metadata": {},
   "outputs": [],
   "source": [
    "from pyspark.sql import SparkSession\n",
    "spark = SparkSession.builder.appName('Testapp').getOrCreate()"
   ]
  },
  {
   "cell_type": "code",
   "execution_count": 4,
   "id": "9adbad78",
   "metadata": {},
   "outputs": [],
   "source": [
    "df_pyspark = spark.read.csv('test4.csv', header=True, inferSchema=True)"
   ]
  },
  {
   "cell_type": "code",
   "execution_count": 5,
   "id": "c1d839ad",
   "metadata": {},
   "outputs": [
    {
     "name": "stdout",
     "output_type": "stream",
     "text": [
      "+---------+----+----------+------+\n",
      "|     Name| Age|Experience|Salary|\n",
      "+---------+----+----------+------+\n",
      "|  Shubham|  27|         5| 50000|\n",
      "|   Manish|  25|         1| 25000|\n",
      "|Suryakant|  58|        34| 45000|\n",
      "|  Saurabh|  18|         0| 15000|\n",
      "|    Seeta|  45|        25| 15000|\n",
      "|   Shweta|  45|        15| 85000|\n",
      "|     null|null|      null| 40000|\n",
      "|     null|  36|        10| 38000|\n",
      "|     null|  34|      null|  null|\n",
      "+---------+----+----------+------+\n",
      "\n"
     ]
    }
   ],
   "source": [
    "df_pyspark.show()"
   ]
  },
  {
   "cell_type": "markdown",
   "id": "826e52b3",
   "metadata": {},
   "source": [
    "## Filter Operation"
   ]
  },
  {
   "cell_type": "code",
   "execution_count": 6,
   "id": "b47a925a",
   "metadata": {},
   "outputs": [
    {
     "name": "stdout",
     "output_type": "stream",
     "text": [
      "+-------+---+----------+------+\n",
      "|   Name|Age|Experience|Salary|\n",
      "+-------+---+----------+------+\n",
      "|Saurabh| 18|         0| 15000|\n",
      "|  Seeta| 45|        25| 15000|\n",
      "+-------+---+----------+------+\n",
      "\n"
     ]
    }
   ],
   "source": [
    "# salary of pepple less than or equal to 20000\n",
    "\n",
    "df_pyspark.filter('Salary <=20000').show()"
   ]
  },
  {
   "cell_type": "code",
   "execution_count": 10,
   "id": "75224c90",
   "metadata": {},
   "outputs": [
    {
     "name": "stdout",
     "output_type": "stream",
     "text": [
      "+-------+---+\n",
      "|   Name|Age|\n",
      "+-------+---+\n",
      "|Saurabh| 18|\n",
      "|  Seeta| 45|\n",
      "+-------+---+\n",
      "\n"
     ]
    }
   ],
   "source": [
    "df_pyspark.filter('Salary <=20000').select(['Name','Age']).show()"
   ]
  },
  {
   "cell_type": "code",
   "execution_count": 11,
   "id": "89b08d7b",
   "metadata": {},
   "outputs": [
    {
     "name": "stdout",
     "output_type": "stream",
     "text": [
      "+---------+----+----------+------+\n",
      "|     Name| Age|Experience|Salary|\n",
      "+---------+----+----------+------+\n",
      "|  Shubham|  27|         5| 50000|\n",
      "|Suryakant|  58|        34| 45000|\n",
      "|   Shweta|  45|        15| 85000|\n",
      "|     null|null|      null| 40000|\n",
      "|     null|  36|        10| 38000|\n",
      "+---------+----+----------+------+\n",
      "\n"
     ]
    }
   ],
   "source": [
    "df_pyspark.filter(df_pyspark['Salary']>=30000).show()"
   ]
  },
  {
   "cell_type": "code",
   "execution_count": 13,
   "id": "6c0181c9",
   "metadata": {},
   "outputs": [
    {
     "name": "stdout",
     "output_type": "stream",
     "text": [
      "+---------+----+----------+------+\n",
      "|     Name| Age|Experience|Salary|\n",
      "+---------+----+----------+------+\n",
      "|  Shubham|  27|         5| 50000|\n",
      "|   Manish|  25|         1| 25000|\n",
      "|Suryakant|  58|        34| 45000|\n",
      "|     null|null|      null| 40000|\n",
      "|     null|  36|        10| 38000|\n",
      "+---------+----+----------+------+\n",
      "\n"
     ]
    }
   ],
   "source": [
    "df_pyspark.filter((df_pyspark['Salary']>=20000) & (df_pyspark['Salary']<=60000)).show()"
   ]
  },
  {
   "cell_type": "code",
   "execution_count": 14,
   "id": "d623c52f",
   "metadata": {},
   "outputs": [
    {
     "name": "stdout",
     "output_type": "stream",
     "text": [
      "+---------+----+----------+------+\n",
      "|     Name| Age|Experience|Salary|\n",
      "+---------+----+----------+------+\n",
      "|  Shubham|  27|         5| 50000|\n",
      "|   Manish|  25|         1| 25000|\n",
      "|Suryakant|  58|        34| 45000|\n",
      "|   Shweta|  45|        15| 85000|\n",
      "|     null|null|      null| 40000|\n",
      "|     null|  36|        10| 38000|\n",
      "+---------+----+----------+------+\n",
      "\n"
     ]
    }
   ],
   "source": [
    "# inverse operation\n",
    "\n",
    "\n",
    "df_pyspark.filter(~(df_pyspark['Salary']<20000)).show()"
   ]
  },
  {
   "cell_type": "code",
   "execution_count": null,
   "id": "efa0c384",
   "metadata": {},
   "outputs": [],
   "source": []
  }
 ],
 "metadata": {
  "kernelspec": {
   "display_name": "pyspark",
   "language": "python",
   "name": "pyspark"
  },
  "language_info": {
   "codemirror_mode": {
    "name": "ipython",
    "version": 3
   },
   "file_extension": ".py",
   "mimetype": "text/x-python",
   "name": "python",
   "nbconvert_exporter": "python",
   "pygments_lexer": "ipython3",
   "version": "3.9.10"
  }
 },
 "nbformat": 4,
 "nbformat_minor": 5
}
