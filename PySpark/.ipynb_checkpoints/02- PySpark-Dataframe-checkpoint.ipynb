{
 "cells": [
  {
   "cell_type": "markdown",
   "id": "450973cf",
   "metadata": {},
   "source": [
    "# In this notebook we will see \n",
    "\n",
    "- Pyspark DataFrame\n",
    "    - Reading datasets\n",
    "    - Checking the datatypes of columns(Schema)\n",
    "    - Selecting columns and Indexing check \n",
    "    - Describe option similar to pandas\n",
    "    - Adding columns dropping columns"
   ]
  },
  {
   "cell_type": "code",
   "execution_count": 1,
   "id": "8954388f",
   "metadata": {},
   "outputs": [],
   "source": [
    "from pyspark.sql import SparkSession\n"
   ]
  },
  {
   "cell_type": "code",
   "execution_count": 2,
   "id": "b3da53ed",
   "metadata": {},
   "outputs": [],
   "source": [
    "spark = SparkSession.builder.appName('Dataframe').getOrCreate()"
   ]
  },
  {
   "cell_type": "code",
   "execution_count": 3,
   "id": "cd31e17f",
   "metadata": {},
   "outputs": [
    {
     "data": {
      "text/html": [
       "\n",
       "            <div>\n",
       "                <p><b>SparkSession - in-memory</b></p>\n",
       "                \n",
       "        <div>\n",
       "            <p><b>SparkContext</b></p>\n",
       "\n",
       "            <p><a href=\"http://LAPTOP-DC9FKHSL:4041\">Spark UI</a></p>\n",
       "\n",
       "            <dl>\n",
       "              <dt>Version</dt>\n",
       "                <dd><code>v3.2.1</code></dd>\n",
       "              <dt>Master</dt>\n",
       "                <dd><code>local[*]</code></dd>\n",
       "              <dt>AppName</dt>\n",
       "                <dd><code>Dataframe</code></dd>\n",
       "            </dl>\n",
       "        </div>\n",
       "        \n",
       "            </div>\n",
       "        "
      ],
      "text/plain": [
       "<pyspark.sql.session.SparkSession at 0x1d77fa56d60>"
      ]
     },
     "execution_count": 3,
     "metadata": {},
     "output_type": "execute_result"
    }
   ],
   "source": [
    "spark"
   ]
  },
  {
   "cell_type": "code",
   "execution_count": 8,
   "id": "a8cd7f61",
   "metadata": {},
   "outputs": [
    {
     "name": "stdout",
     "output_type": "stream",
     "text": [
      "+---------+---+----------+\n",
      "|     Name|Age|Experience|\n",
      "+---------+---+----------+\n",
      "|  Shubham| 27|         5|\n",
      "|   Manish| 25|         1|\n",
      "|Suryakant| 58|        34|\n",
      "|  Saurabh| 18|         0|\n",
      "+---------+---+----------+\n",
      "\n"
     ]
    }
   ],
   "source": [
    "#read dataset\n",
    "df_pyspark = spark.read.csv('pysparktest.csv', header=True, inferSchema=True)\n",
    "df_pyspark.show()"
   ]
  },
  {
   "cell_type": "code",
   "execution_count": 9,
   "id": "de22e640",
   "metadata": {},
   "outputs": [
    {
     "name": "stdout",
     "output_type": "stream",
     "text": [
      "root\n",
      " |-- Name: string (nullable = true)\n",
      " |-- Age: integer (nullable = true)\n",
      " |-- Experience: integer (nullable = true)\n",
      "\n"
     ]
    }
   ],
   "source": [
    "df_pyspark.printSchema()"
   ]
  },
  {
   "cell_type": "code",
   "execution_count": 10,
   "id": "0527acc8",
   "metadata": {},
   "outputs": [
    {
     "data": {
      "text/plain": [
       "pyspark.sql.dataframe.DataFrame"
      ]
     },
     "execution_count": 10,
     "metadata": {},
     "output_type": "execute_result"
    }
   ],
   "source": [
    "#find datatype\n",
    "type(df_pyspark)"
   ]
  },
  {
   "cell_type": "code",
   "execution_count": 11,
   "id": "fb65a0b4",
   "metadata": {},
   "outputs": [
    {
     "data": {
      "text/plain": [
       "['Name', 'Age', 'Experience']"
      ]
     },
     "execution_count": 11,
     "metadata": {},
     "output_type": "execute_result"
    }
   ],
   "source": [
    "#find columns]\n",
    "df_pyspark.columns"
   ]
  },
  {
   "cell_type": "code",
   "execution_count": 12,
   "id": "829e7061",
   "metadata": {},
   "outputs": [
    {
     "data": {
      "text/plain": [
       "[Row(Name='Shubham', Age=27, Experience=5),\n",
       " Row(Name='Manish', Age=25, Experience=1),\n",
       " Row(Name='Suryakant', Age=58, Experience=34)]"
      ]
     },
     "execution_count": 12,
     "metadata": {},
     "output_type": "execute_result"
    }
   ],
   "source": [
    "df_pyspark.head(3)"
   ]
  },
  {
   "cell_type": "code",
   "execution_count": 13,
   "id": "c39fb11b",
   "metadata": {},
   "outputs": [
    {
     "name": "stdout",
     "output_type": "stream",
     "text": [
      "+---------+\n",
      "|     Name|\n",
      "+---------+\n",
      "|  Shubham|\n",
      "|   Manish|\n",
      "|Suryakant|\n",
      "|  Saurabh|\n",
      "+---------+\n",
      "\n"
     ]
    }
   ],
   "source": [
    "#show only particular columns\n",
    "df_pyspark.select('Name').show()"
   ]
  },
  {
   "cell_type": "code",
   "execution_count": 14,
   "id": "edb56dfc",
   "metadata": {},
   "outputs": [
    {
     "name": "stdout",
     "output_type": "stream",
     "text": [
      "+---------+----------+\n",
      "|     Name|Experience|\n",
      "+---------+----------+\n",
      "|  Shubham|         5|\n",
      "|   Manish|         1|\n",
      "|Suryakant|        34|\n",
      "|  Saurabh|         0|\n",
      "+---------+----------+\n",
      "\n"
     ]
    }
   ],
   "source": [
    "df_pyspark.select(['Name','Experience']).show()"
   ]
  },
  {
   "cell_type": "code",
   "execution_count": 15,
   "id": "39539d64",
   "metadata": {},
   "outputs": [
    {
     "data": {
      "text/plain": [
       "Column<'Name'>"
      ]
     },
     "execution_count": 15,
     "metadata": {},
     "output_type": "execute_result"
    }
   ],
   "source": [
    "df_pyspark['Name']"
   ]
  },
  {
   "cell_type": "code",
   "execution_count": 16,
   "id": "06e69c31",
   "metadata": {},
   "outputs": [
    {
     "data": {
      "text/plain": [
       "[('Name', 'string'), ('Age', 'int'), ('Experience', 'int')]"
      ]
     },
     "execution_count": 16,
     "metadata": {},
     "output_type": "execute_result"
    }
   ],
   "source": [
    "## check datatype \n",
    "\n",
    "df_pyspark.dtypes"
   ]
  },
  {
   "cell_type": "code",
   "execution_count": 17,
   "id": "4f0976aa",
   "metadata": {},
   "outputs": [
    {
     "name": "stdout",
     "output_type": "stream",
     "text": [
      "+-------+---------+-----------------+-----------------+\n",
      "|summary|     Name|              Age|       Experience|\n",
      "+-------+---------+-----------------+-----------------+\n",
      "|  count|        4|                4|                4|\n",
      "|   mean|     null|             32.0|             10.0|\n",
      "| stddev|     null|17.75762746915627|16.14517471774978|\n",
      "|    min|   Manish|               18|                0|\n",
      "|    max|Suryakant|               58|               34|\n",
      "+-------+---------+-----------------+-----------------+\n",
      "\n"
     ]
    }
   ],
   "source": [
    "## Describe dataframe\n",
    "\n",
    "df_pyspark.describe().show()"
   ]
  },
  {
   "cell_type": "code",
   "execution_count": 18,
   "id": "851c1894",
   "metadata": {},
   "outputs": [],
   "source": [
    "#Adding columns\n",
    "\n",
    "df_pyspark = df_pyspark.withColumn('Exp after 4  year', df_pyspark['Experience']+4)"
   ]
  },
  {
   "cell_type": "code",
   "execution_count": 19,
   "id": "dcb8b1cf",
   "metadata": {},
   "outputs": [
    {
     "name": "stdout",
     "output_type": "stream",
     "text": [
      "+---------+---+----------+-----------------+\n",
      "|     Name|Age|Experience|Exp after 4  year|\n",
      "+---------+---+----------+-----------------+\n",
      "|  Shubham| 27|         5|                9|\n",
      "|   Manish| 25|         1|                5|\n",
      "|Suryakant| 58|        34|               38|\n",
      "|  Saurabh| 18|         0|                4|\n",
      "+---------+---+----------+-----------------+\n",
      "\n"
     ]
    }
   ],
   "source": [
    "df_pyspark.show()"
   ]
  },
  {
   "cell_type": "code",
   "execution_count": 20,
   "id": "5dea5d0c",
   "metadata": {},
   "outputs": [],
   "source": [
    "# Drop column\n",
    "df_pyspark = df_pyspark.drop('Exp after 4  year')"
   ]
  },
  {
   "cell_type": "code",
   "execution_count": 21,
   "id": "0f4597d4",
   "metadata": {},
   "outputs": [
    {
     "name": "stdout",
     "output_type": "stream",
     "text": [
      "+---------+---+----------+\n",
      "|     Name|Age|Experience|\n",
      "+---------+---+----------+\n",
      "|  Shubham| 27|         5|\n",
      "|   Manish| 25|         1|\n",
      "|Suryakant| 58|        34|\n",
      "|  Saurabh| 18|         0|\n",
      "+---------+---+----------+\n",
      "\n"
     ]
    }
   ],
   "source": [
    "df_pyspark.show()"
   ]
  },
  {
   "cell_type": "code",
   "execution_count": 25,
   "id": "b9d5c87a",
   "metadata": {},
   "outputs": [
    {
     "name": "stdout",
     "output_type": "stream",
     "text": [
      "+----------+---+----------+\n",
      "|First Name|Age|Experience|\n",
      "+----------+---+----------+\n",
      "|   Shubham| 27|         5|\n",
      "|    Manish| 25|         1|\n",
      "| Suryakant| 58|        34|\n",
      "|   Saurabh| 18|         0|\n",
      "+----------+---+----------+\n",
      "\n"
     ]
    }
   ],
   "source": [
    "## Remane columns\n",
    "df_pyspark.withColumnRenamed('Name','First Name').show()"
   ]
  },
  {
   "cell_type": "code",
   "execution_count": null,
   "id": "d76c45fb",
   "metadata": {},
   "outputs": [],
   "source": []
  }
 ],
 "metadata": {
  "kernelspec": {
   "display_name": "pyspark",
   "language": "python",
   "name": "pyspark"
  },
  "language_info": {
   "codemirror_mode": {
    "name": "ipython",
    "version": 3
   },
   "file_extension": ".py",
   "mimetype": "text/x-python",
   "name": "python",
   "nbconvert_exporter": "python",
   "pygments_lexer": "ipython3",
   "version": "3.9.10"
  }
 },
 "nbformat": 4,
 "nbformat_minor": 5
}
